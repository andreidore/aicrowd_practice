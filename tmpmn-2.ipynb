{
  "nbformat": 4,
  "nbformat_minor": 0,
  "metadata": {
    "colab": {
      "name": "tmpmn.ipynb",
      "provenance": [],
      "authorship_tag": "ABX9TyPjXkz6mOcP78eSe5cWu+yl",
      "include_colab_link": true
    },
    "kernelspec": {
      "name": "python3",
      "display_name": "Python 3"
    }
  },
  "cells": [
    {
      "cell_type": "markdown",
      "metadata": {
        "id": "view-in-github",
        "colab_type": "text"
      },
      "source": [
        "<a href=\"https://colab.research.google.com/github/andreidore/aicrowd_practice/blob/master/tmpmn-2.ipynb\" target=\"_parent\"><img src=\"https://colab.research.google.com/assets/colab-badge.svg\" alt=\"Open In Colab\"/></a>"
      ]
    },
    {
      "cell_type": "code",
      "metadata": {
        "id": "7NM2Iphu-H2U",
        "colab_type": "code",
        "colab": {}
      },
      "source": [
        "import seaborn as sns\n",
        "import pandas as pd\n",
        "import numpy as np\n",
        "from sklearn.model_selection import train_test_split\n",
        "from sklearn.linear_model import LogisticRegression\n",
        "from sklearn.linear_model import LinearRegression\n",
        "from sklearn.neural_network import MLPRegressor\n",
        "from sklearn.ensemble import RandomForestRegressor\n",
        "from sklearn.preprocessing import normalize\n",
        "from sklearn.svm import SVC, SVR\n",
        "from sklearn.metrics import mean_absolute_error,mean_squared_error\n",
        "import xgboost\n",
        "\n"
      ],
      "execution_count": 0,
      "outputs": []
    },
    {
      "cell_type": "code",
      "metadata": {
        "id": "K74OryMW__9y",
        "colab_type": "code",
        "colab": {
          "base_uri": "https://localhost:8080/",
          "height": 391
        },
        "outputId": "7ec921f8-a967-462b-9f34-399235309a7d"
      },
      "source": [
        "!rm -rf data\n",
        "!mkdir data\n",
        "!wget https://s3.eu-central-1.wasabisys.com/aicrowd-practice-challenges/public/tmpmn/v0.1/test.csv\n",
        "!wget https://s3.eu-central-1.wasabisys.com/aicrowd-practice-challenges/public/tmpmn/v0.1/train.csv\n",
        "!mv train.csv data/train.csv\n",
        "!mv test.csv data/test.csv"
      ],
      "execution_count": 2,
      "outputs": [
        {
          "output_type": "stream",
          "text": [
            "--2020-05-20 16:52:26--  https://s3.eu-central-1.wasabisys.com/aicrowd-practice-challenges/public/tmpmn/v0.1/test.csv\n",
            "Resolving s3.eu-central-1.wasabisys.com (s3.eu-central-1.wasabisys.com)... 130.117.252.10, 130.117.252.13, 130.117.252.16, ...\n",
            "Connecting to s3.eu-central-1.wasabisys.com (s3.eu-central-1.wasabisys.com)|130.117.252.10|:443... connected.\n",
            "HTTP request sent, awaiting response... 200 OK\n",
            "Length: 13261 (13K) [text/csv]\n",
            "Saving to: ‘test.csv’\n",
            "\n",
            "test.csv            100%[===================>]  12.95K  56.5KB/s    in 0.2s    \n",
            "\n",
            "2020-05-20 16:52:27 (56.5 KB/s) - ‘test.csv’ saved [13261/13261]\n",
            "\n",
            "--2020-05-20 16:52:28--  https://s3.eu-central-1.wasabisys.com/aicrowd-practice-challenges/public/tmpmn/v0.1/train.csv\n",
            "Resolving s3.eu-central-1.wasabisys.com (s3.eu-central-1.wasabisys.com)... 130.117.252.10, 130.117.252.13, 130.117.252.16, ...\n",
            "Connecting to s3.eu-central-1.wasabisys.com (s3.eu-central-1.wasabisys.com)|130.117.252.10|:443... connected.\n",
            "HTTP request sent, awaiting response... 200 OK\n",
            "Length: 58422 (57K) [text/csv]\n",
            "Saving to: ‘train.csv’\n",
            "\n",
            "train.csv           100%[===================>]  57.05K   123KB/s    in 0.5s    \n",
            "\n",
            "2020-05-20 16:52:30 (123 KB/s) - ‘train.csv’ saved [58422/58422]\n",
            "\n"
          ],
          "name": "stdout"
        }
      ]
    },
    {
      "cell_type": "code",
      "metadata": {
        "id": "S_t6xnvmAJL2",
        "colab_type": "code",
        "colab": {}
      },
      "source": [
        "all_data_path = \"data/train.csv\" #path where data is stored"
      ],
      "execution_count": 0,
      "outputs": []
    },
    {
      "cell_type": "code",
      "metadata": {
        "id": "H50cKYuPALDg",
        "colab_type": "code",
        "colab": {
          "base_uri": "https://localhost:8080/",
          "height": 204
        },
        "outputId": "8992ce1c-e4e1-4e33-ab62-7db3bd07e9f4"
      },
      "source": [
        "all_data = pd.read_csv(all_data_path)\n",
        "all_data.head()"
      ],
      "execution_count": 217,
      "outputs": [
        {
          "output_type": "execute_result",
          "data": {
            "text/html": [
              "<div>\n",
              "<style scoped>\n",
              "    .dataframe tbody tr th:only-of-type {\n",
              "        vertical-align: middle;\n",
              "    }\n",
              "\n",
              "    .dataframe tbody tr th {\n",
              "        vertical-align: top;\n",
              "    }\n",
              "\n",
              "    .dataframe thead th {\n",
              "        text-align: right;\n",
              "    }\n",
              "</style>\n",
              "<table border=\"1\" class=\"dataframe\">\n",
              "  <thead>\n",
              "    <tr style=\"text-align: right;\">\n",
              "      <th></th>\n",
              "      <th>Max_temperature</th>\n",
              "      <th>Min_temperature</th>\n",
              "      <th>Dewpoint</th>\n",
              "      <th>Precipitation</th>\n",
              "      <th>Sea_level_pressure</th>\n",
              "      <th>Standard_pressure</th>\n",
              "      <th>Visibility</th>\n",
              "      <th>Wind_speed</th>\n",
              "      <th>Max_wind_speed</th>\n",
              "      <th>Mean_temperature</th>\n",
              "    </tr>\n",
              "  </thead>\n",
              "  <tbody>\n",
              "    <tr>\n",
              "      <th>0</th>\n",
              "      <td>86.5</td>\n",
              "      <td>57.6</td>\n",
              "      <td>56.5</td>\n",
              "      <td>0.0</td>\n",
              "      <td>29.93</td>\n",
              "      <td>7.4</td>\n",
              "      <td>7.48</td>\n",
              "      <td>13.8</td>\n",
              "      <td>34.28</td>\n",
              "      <td>72.4</td>\n",
              "    </tr>\n",
              "    <tr>\n",
              "      <th>1</th>\n",
              "      <td>55.6</td>\n",
              "      <td>37.4</td>\n",
              "      <td>36.1</td>\n",
              "      <td>0.0</td>\n",
              "      <td>30.30</td>\n",
              "      <td>7.5</td>\n",
              "      <td>12.70</td>\n",
              "      <td>20.8</td>\n",
              "      <td>34.28</td>\n",
              "      <td>46.6</td>\n",
              "    </tr>\n",
              "    <tr>\n",
              "      <th>2</th>\n",
              "      <td>85.6</td>\n",
              "      <td>62.4</td>\n",
              "      <td>52.8</td>\n",
              "      <td>0.0</td>\n",
              "      <td>29.94</td>\n",
              "      <td>7.4</td>\n",
              "      <td>10.40</td>\n",
              "      <td>16.1</td>\n",
              "      <td>34.28</td>\n",
              "      <td>74.3</td>\n",
              "    </tr>\n",
              "    <tr>\n",
              "      <th>3</th>\n",
              "      <td>75.2</td>\n",
              "      <td>53.6</td>\n",
              "      <td>46.9</td>\n",
              "      <td>0.0</td>\n",
              "      <td>29.93</td>\n",
              "      <td>7.3</td>\n",
              "      <td>19.70</td>\n",
              "      <td>25.3</td>\n",
              "      <td>34.28</td>\n",
              "      <td>62.8</td>\n",
              "    </tr>\n",
              "    <tr>\n",
              "      <th>4</th>\n",
              "      <td>60.8</td>\n",
              "      <td>34.0</td>\n",
              "      <td>41.9</td>\n",
              "      <td>0.0</td>\n",
              "      <td>30.04</td>\n",
              "      <td>6.4</td>\n",
              "      <td>9.09</td>\n",
              "      <td>16.1</td>\n",
              "      <td>34.28</td>\n",
              "      <td>49.9</td>\n",
              "    </tr>\n",
              "  </tbody>\n",
              "</table>\n",
              "</div>"
            ],
            "text/plain": [
              "   Max_temperature  Min_temperature  ...  Max_wind_speed  Mean_temperature\n",
              "0             86.5             57.6  ...           34.28              72.4\n",
              "1             55.6             37.4  ...           34.28              46.6\n",
              "2             85.6             62.4  ...           34.28              74.3\n",
              "3             75.2             53.6  ...           34.28              62.8\n",
              "4             60.8             34.0  ...           34.28              49.9\n",
              "\n",
              "[5 rows x 10 columns]"
            ]
          },
          "metadata": {
            "tags": []
          },
          "execution_count": 217
        }
      ]
    },
    {
      "cell_type": "code",
      "metadata": {
        "id": "7GWIFKnMPxHc",
        "colab_type": "code",
        "colab": {
          "base_uri": "https://localhost:8080/",
          "height": 297
        },
        "outputId": "cb4975ef-524f-410d-8a55-f218c2242fa8"
      },
      "source": [
        "all_data.describe()"
      ],
      "execution_count": 105,
      "outputs": [
        {
          "output_type": "execute_result",
          "data": {
            "text/html": [
              "<div>\n",
              "<style scoped>\n",
              "    .dataframe tbody tr th:only-of-type {\n",
              "        vertical-align: middle;\n",
              "    }\n",
              "\n",
              "    .dataframe tbody tr th {\n",
              "        vertical-align: top;\n",
              "    }\n",
              "\n",
              "    .dataframe thead th {\n",
              "        text-align: right;\n",
              "    }\n",
              "</style>\n",
              "<table border=\"1\" class=\"dataframe\">\n",
              "  <thead>\n",
              "    <tr style=\"text-align: right;\">\n",
              "      <th></th>\n",
              "      <th>Max_temperature</th>\n",
              "      <th>Min_temperature</th>\n",
              "      <th>Dewpoint</th>\n",
              "      <th>Precipitation</th>\n",
              "      <th>Sea_level_pressure</th>\n",
              "      <th>Standard_pressure</th>\n",
              "      <th>Visibility</th>\n",
              "      <th>Wind_speed</th>\n",
              "      <th>Max_wind_speed</th>\n",
              "      <th>Mean_temperature</th>\n",
              "    </tr>\n",
              "  </thead>\n",
              "  <tbody>\n",
              "    <tr>\n",
              "      <th>count</th>\n",
              "      <td>1168.000000</td>\n",
              "      <td>1168.000000</td>\n",
              "      <td>1168.000000</td>\n",
              "      <td>1168.000000</td>\n",
              "      <td>1168.000000</td>\n",
              "      <td>1168.000000</td>\n",
              "      <td>1168.000000</td>\n",
              "      <td>1168.000000</td>\n",
              "      <td>1168.000000</td>\n",
              "      <td>1168.000000</td>\n",
              "    </tr>\n",
              "    <tr>\n",
              "      <th>mean</th>\n",
              "      <td>72.569692</td>\n",
              "      <td>51.030308</td>\n",
              "      <td>46.721421</td>\n",
              "      <td>0.098596</td>\n",
              "      <td>29.967611</td>\n",
              "      <td>7.195976</td>\n",
              "      <td>11.240265</td>\n",
              "      <td>19.905402</td>\n",
              "      <td>34.294033</td>\n",
              "      <td>61.847774</td>\n",
              "    </tr>\n",
              "    <tr>\n",
              "      <th>std</th>\n",
              "      <td>16.026870</td>\n",
              "      <td>13.157508</td>\n",
              "      <td>9.303466</td>\n",
              "      <td>0.375938</td>\n",
              "      <td>0.166530</td>\n",
              "      <td>0.684027</td>\n",
              "      <td>5.379394</td>\n",
              "      <td>6.942334</td>\n",
              "      <td>2.435109</td>\n",
              "      <td>14.444963</td>\n",
              "    </tr>\n",
              "    <tr>\n",
              "      <th>min</th>\n",
              "      <td>36.700000</td>\n",
              "      <td>15.800000</td>\n",
              "      <td>13.600000</td>\n",
              "      <td>0.000000</td>\n",
              "      <td>29.260000</td>\n",
              "      <td>2.500000</td>\n",
              "      <td>0.920000</td>\n",
              "      <td>4.720000</td>\n",
              "      <td>16.110000</td>\n",
              "      <td>29.400000</td>\n",
              "    </tr>\n",
              "    <tr>\n",
              "      <th>25%</th>\n",
              "      <td>59.000000</td>\n",
              "      <td>40.950000</td>\n",
              "      <td>41.400000</td>\n",
              "      <td>0.000000</td>\n",
              "      <td>29.850000</td>\n",
              "      <td>7.100000</td>\n",
              "      <td>6.670000</td>\n",
              "      <td>16.100000</td>\n",
              "      <td>34.280000</td>\n",
              "      <td>49.775000</td>\n",
              "    </tr>\n",
              "    <tr>\n",
              "      <th>50%</th>\n",
              "      <td>71.600000</td>\n",
              "      <td>50.600000</td>\n",
              "      <td>48.400000</td>\n",
              "      <td>0.000000</td>\n",
              "      <td>29.950000</td>\n",
              "      <td>7.300000</td>\n",
              "      <td>10.800000</td>\n",
              "      <td>20.800000</td>\n",
              "      <td>34.280000</td>\n",
              "      <td>60.750000</td>\n",
              "    </tr>\n",
              "    <tr>\n",
              "      <th>75%</th>\n",
              "      <td>87.800000</td>\n",
              "      <td>62.250000</td>\n",
              "      <td>53.700000</td>\n",
              "      <td>0.000000</td>\n",
              "      <td>30.070000</td>\n",
              "      <td>7.600000</td>\n",
              "      <td>15.500000</td>\n",
              "      <td>23.000000</td>\n",
              "      <td>34.280000</td>\n",
              "      <td>75.700000</td>\n",
              "    </tr>\n",
              "    <tr>\n",
              "      <th>max</th>\n",
              "      <td>105.000000</td>\n",
              "      <td>78.400000</td>\n",
              "      <td>64.400000</td>\n",
              "      <td>7.600000</td>\n",
              "      <td>30.480000</td>\n",
              "      <td>10.100000</td>\n",
              "      <td>29.100000</td>\n",
              "      <td>64.300000</td>\n",
              "      <td>55.240000</td>\n",
              "      <td>89.000000</td>\n",
              "    </tr>\n",
              "  </tbody>\n",
              "</table>\n",
              "</div>"
            ],
            "text/plain": [
              "       Max_temperature  Min_temperature  ...  Max_wind_speed  Mean_temperature\n",
              "count      1168.000000      1168.000000  ...     1168.000000       1168.000000\n",
              "mean         72.569692        51.030308  ...       34.294033         61.847774\n",
              "std          16.026870        13.157508  ...        2.435109         14.444963\n",
              "min          36.700000        15.800000  ...       16.110000         29.400000\n",
              "25%          59.000000        40.950000  ...       34.280000         49.775000\n",
              "50%          71.600000        50.600000  ...       34.280000         60.750000\n",
              "75%          87.800000        62.250000  ...       34.280000         75.700000\n",
              "max         105.000000        78.400000  ...       55.240000         89.000000\n",
              "\n",
              "[8 rows x 10 columns]"
            ]
          },
          "metadata": {
            "tags": []
          },
          "execution_count": 105
        }
      ]
    },
    {
      "cell_type": "code",
      "metadata": {
        "id": "7M53KxTiS0MF",
        "colab_type": "code",
        "colab": {
          "base_uri": "https://localhost:8080/",
          "height": 372
        },
        "outputId": "f6748176-ff77-4a5a-90e8-5b947f428422"
      },
      "source": [
        "sns.heatmap(all_data.corr(), annot = True)"
      ],
      "execution_count": 313,
      "outputs": [
        {
          "output_type": "execute_result",
          "data": {
            "text/plain": [
              "<matplotlib.axes._subplots.AxesSubplot at 0x7f2c66402c50>"
            ]
          },
          "metadata": {
            "tags": []
          },
          "execution_count": 313
        },
        {
          "output_type": "display_data",
          "data": {
            "image/png": "[encoded data removed]",
            "text/plain": [
              "<Figure size 432x288 with 2 Axes>"
            ]
          },
          "metadata": {
            "tags": [],
            "needs_background": "light"
          }
        }
      ]
    },
    {
      "cell_type": "code",
      "metadata": {
        "id": "kImF6Ml7qThZ",
        "colab_type": "code",
        "colab": {
          "base_uri": "https://localhost:8080/",
          "height": 204
        },
        "outputId": "b3172238-6cb9-4933-92bd-51e2222db6fd"
      },
      "source": [
        "all_data.drop(\"Mean_temperature\", axis=1).apply(lambda x: x.corr(all_data[\"Mean_temperature\"]))"
      ],
      "execution_count": 314,
      "outputs": [
        {
          "output_type": "execute_result",
          "data": {
            "text/plain": [
              "Max_temperature       0.978845\n",
              "Min_temperature       0.957402\n",
              "Dewpoint              0.781420\n",
              "Precipitation        -0.152560\n",
              "Sea_level_pressure   -0.574501\n",
              "Standard_pressure     0.137732\n",
              "Visibility            0.226826\n",
              "Wind_speed            0.184264\n",
              "Max_wind_speed       -0.133136\n",
              "avg                   0.995573\n",
              "dtype: float64"
            ]
          },
          "metadata": {
            "tags": []
          },
          "execution_count": 314
        }
      ]
    },
    {
      "cell_type": "code",
      "metadata": {
        "id": "NuAI5YGfFcHS",
        "colab_type": "code",
        "colab": {
          "base_uri": "https://localhost:8080/",
          "height": 85
        },
        "outputId": "7fe2de62-8b00-4c3c-da1c-0308b0c05624"
      },
      "source": [
        "all_data.columns"
      ],
      "execution_count": 47,
      "outputs": [
        {
          "output_type": "execute_result",
          "data": {
            "text/plain": [
              "Index(['Max_temperature', 'Min_temperature', 'Dewpoint', 'Precipitation',\n",
              "       'Sea_level_pressure', 'Standard_pressure', 'Visibility', 'Wind_speed',\n",
              "       'Max_wind_speed', 'Mean_temperature'],\n",
              "      dtype='object')"
            ]
          },
          "metadata": {
            "tags": []
          },
          "execution_count": 47
        }
      ]
    },
    {
      "cell_type": "code",
      "metadata": {
        "id": "vtB7-MEU0Nwy",
        "colab_type": "code",
        "colab": {
          "base_uri": "https://localhost:8080/",
          "height": 204
        },
        "outputId": "6107764c-c75a-4631-dabd-8d9042e98614"
      },
      "source": [
        "all_data['avg'] = all_data[['Max_temperature', 'Min_temperature']].mean(axis=1)\n",
        "all_data.head()"
      ],
      "execution_count": 304,
      "outputs": [
        {
          "output_type": "execute_result",
          "data": {
            "text/html": [
              "<div>\n",
              "<style scoped>\n",
              "    .dataframe tbody tr th:only-of-type {\n",
              "        vertical-align: middle;\n",
              "    }\n",
              "\n",
              "    .dataframe tbody tr th {\n",
              "        vertical-align: top;\n",
              "    }\n",
              "\n",
              "    .dataframe thead th {\n",
              "        text-align: right;\n",
              "    }\n",
              "</style>\n",
              "<table border=\"1\" class=\"dataframe\">\n",
              "  <thead>\n",
              "    <tr style=\"text-align: right;\">\n",
              "      <th></th>\n",
              "      <th>Max_temperature</th>\n",
              "      <th>Min_temperature</th>\n",
              "      <th>Dewpoint</th>\n",
              "      <th>Precipitation</th>\n",
              "      <th>Sea_level_pressure</th>\n",
              "      <th>Standard_pressure</th>\n",
              "      <th>Visibility</th>\n",
              "      <th>Wind_speed</th>\n",
              "      <th>Max_wind_speed</th>\n",
              "      <th>Mean_temperature</th>\n",
              "      <th>avg</th>\n",
              "    </tr>\n",
              "  </thead>\n",
              "  <tbody>\n",
              "    <tr>\n",
              "      <th>0</th>\n",
              "      <td>86.5</td>\n",
              "      <td>57.6</td>\n",
              "      <td>56.5</td>\n",
              "      <td>0.0</td>\n",
              "      <td>29.93</td>\n",
              "      <td>7.4</td>\n",
              "      <td>7.48</td>\n",
              "      <td>13.8</td>\n",
              "      <td>34.28</td>\n",
              "      <td>72.4</td>\n",
              "      <td>72.05</td>\n",
              "    </tr>\n",
              "    <tr>\n",
              "      <th>1</th>\n",
              "      <td>55.6</td>\n",
              "      <td>37.4</td>\n",
              "      <td>36.1</td>\n",
              "      <td>0.0</td>\n",
              "      <td>30.30</td>\n",
              "      <td>7.5</td>\n",
              "      <td>12.70</td>\n",
              "      <td>20.8</td>\n",
              "      <td>34.28</td>\n",
              "      <td>46.6</td>\n",
              "      <td>46.50</td>\n",
              "    </tr>\n",
              "    <tr>\n",
              "      <th>2</th>\n",
              "      <td>85.6</td>\n",
              "      <td>62.4</td>\n",
              "      <td>52.8</td>\n",
              "      <td>0.0</td>\n",
              "      <td>29.94</td>\n",
              "      <td>7.4</td>\n",
              "      <td>10.40</td>\n",
              "      <td>16.1</td>\n",
              "      <td>34.28</td>\n",
              "      <td>74.3</td>\n",
              "      <td>74.00</td>\n",
              "    </tr>\n",
              "    <tr>\n",
              "      <th>3</th>\n",
              "      <td>75.2</td>\n",
              "      <td>53.6</td>\n",
              "      <td>46.9</td>\n",
              "      <td>0.0</td>\n",
              "      <td>29.93</td>\n",
              "      <td>7.3</td>\n",
              "      <td>19.70</td>\n",
              "      <td>25.3</td>\n",
              "      <td>34.28</td>\n",
              "      <td>62.8</td>\n",
              "      <td>64.40</td>\n",
              "    </tr>\n",
              "    <tr>\n",
              "      <th>4</th>\n",
              "      <td>60.8</td>\n",
              "      <td>34.0</td>\n",
              "      <td>41.9</td>\n",
              "      <td>0.0</td>\n",
              "      <td>30.04</td>\n",
              "      <td>6.4</td>\n",
              "      <td>9.09</td>\n",
              "      <td>16.1</td>\n",
              "      <td>34.28</td>\n",
              "      <td>49.9</td>\n",
              "      <td>47.40</td>\n",
              "    </tr>\n",
              "  </tbody>\n",
              "</table>\n",
              "</div>"
            ],
            "text/plain": [
              "   Max_temperature  Min_temperature  ...  Mean_temperature    avg\n",
              "0             86.5             57.6  ...              72.4  72.05\n",
              "1             55.6             37.4  ...              46.6  46.50\n",
              "2             85.6             62.4  ...              74.3  74.00\n",
              "3             75.2             53.6  ...              62.8  64.40\n",
              "4             60.8             34.0  ...              49.9  47.40\n",
              "\n",
              "[5 rows x 11 columns]"
            ]
          },
          "metadata": {
            "tags": []
          },
          "execution_count": 304
        }
      ]
    },
    {
      "cell_type": "code",
      "metadata": {
        "id": "T204ZFdmQGF4",
        "colab_type": "code",
        "colab": {
          "base_uri": "https://localhost:8080/",
          "height": 221
        },
        "outputId": "262811f7-6ccc-4140-d1c4-9b9541fc71d8"
      },
      "source": [
        "features=[\"avg\",\"Sea_level_pressure\",\"Visibility\"]\n",
        "target=[\"Mean_temperature\"]\n",
        "columns=list(features)\n",
        "columns.extend(target)\n",
        "print(columns)\n",
        "\n",
        "data=all_data[columns]\n",
        "data.head()"
      ],
      "execution_count": 330,
      "outputs": [
        {
          "output_type": "stream",
          "text": [
            "['avg', 'Sea_level_pressure', 'Visibility', 'Mean_temperature']\n"
          ],
          "name": "stdout"
        },
        {
          "output_type": "execute_result",
          "data": {
            "text/html": [
              "<div>\n",
              "<style scoped>\n",
              "    .dataframe tbody tr th:only-of-type {\n",
              "        vertical-align: middle;\n",
              "    }\n",
              "\n",
              "    .dataframe tbody tr th {\n",
              "        vertical-align: top;\n",
              "    }\n",
              "\n",
              "    .dataframe thead th {\n",
              "        text-align: right;\n",
              "    }\n",
              "</style>\n",
              "<table border=\"1\" class=\"dataframe\">\n",
              "  <thead>\n",
              "    <tr style=\"text-align: right;\">\n",
              "      <th></th>\n",
              "      <th>avg</th>\n",
              "      <th>Sea_level_pressure</th>\n",
              "      <th>Visibility</th>\n",
              "      <th>Mean_temperature</th>\n",
              "    </tr>\n",
              "  </thead>\n",
              "  <tbody>\n",
              "    <tr>\n",
              "      <th>0</th>\n",
              "      <td>72.05</td>\n",
              "      <td>29.93</td>\n",
              "      <td>7.48</td>\n",
              "      <td>72.4</td>\n",
              "    </tr>\n",
              "    <tr>\n",
              "      <th>1</th>\n",
              "      <td>46.50</td>\n",
              "      <td>30.30</td>\n",
              "      <td>12.70</td>\n",
              "      <td>46.6</td>\n",
              "    </tr>\n",
              "    <tr>\n",
              "      <th>2</th>\n",
              "      <td>74.00</td>\n",
              "      <td>29.94</td>\n",
              "      <td>10.40</td>\n",
              "      <td>74.3</td>\n",
              "    </tr>\n",
              "    <tr>\n",
              "      <th>3</th>\n",
              "      <td>64.40</td>\n",
              "      <td>29.93</td>\n",
              "      <td>19.70</td>\n",
              "      <td>62.8</td>\n",
              "    </tr>\n",
              "    <tr>\n",
              "      <th>4</th>\n",
              "      <td>47.40</td>\n",
              "      <td>30.04</td>\n",
              "      <td>9.09</td>\n",
              "      <td>49.9</td>\n",
              "    </tr>\n",
              "  </tbody>\n",
              "</table>\n",
              "</div>"
            ],
            "text/plain": [
              "     avg  Sea_level_pressure  Visibility  Mean_temperature\n",
              "0  72.05               29.93        7.48              72.4\n",
              "1  46.50               30.30       12.70              46.6\n",
              "2  74.00               29.94       10.40              74.3\n",
              "3  64.40               29.93       19.70              62.8\n",
              "4  47.40               30.04        9.09              49.9"
            ]
          },
          "metadata": {
            "tags": []
          },
          "execution_count": 330
        }
      ]
    },
    {
      "cell_type": "code",
      "metadata": {
        "id": "MfQY_SPYAnGQ",
        "colab_type": "code",
        "colab": {
          "base_uri": "https://localhost:8080/",
          "height": 204
        },
        "outputId": "3f1e94ee-348e-4e34-af6c-9fe9705b28c2"
      },
      "source": [
        "X_train, X_val= train_test_split(data, test_size=0.2, random_state=42)\n",
        "X_train,y_train = X_train.iloc[:,:-1],X_train.iloc[:,-1]\n",
        "X_val,y_val = X_val.iloc[:,:-1],X_val.iloc[:,-1]\n",
        "\n",
        "X_train.head()"
      ],
      "execution_count": 331,
      "outputs": [
        {
          "output_type": "execute_result",
          "data": {
            "text/html": [
              "<div>\n",
              "<style scoped>\n",
              "    .dataframe tbody tr th:only-of-type {\n",
              "        vertical-align: middle;\n",
              "    }\n",
              "\n",
              "    .dataframe tbody tr th {\n",
              "        vertical-align: top;\n",
              "    }\n",
              "\n",
              "    .dataframe thead th {\n",
              "        text-align: right;\n",
              "    }\n",
              "</style>\n",
              "<table border=\"1\" class=\"dataframe\">\n",
              "  <thead>\n",
              "    <tr style=\"text-align: right;\">\n",
              "      <th></th>\n",
              "      <th>avg</th>\n",
              "      <th>Sea_level_pressure</th>\n",
              "      <th>Visibility</th>\n",
              "    </tr>\n",
              "  </thead>\n",
              "  <tbody>\n",
              "    <tr>\n",
              "      <th>591</th>\n",
              "      <td>43.25</td>\n",
              "      <td>30.29</td>\n",
              "      <td>1.61</td>\n",
              "    </tr>\n",
              "    <tr>\n",
              "      <th>184</th>\n",
              "      <td>85.00</td>\n",
              "      <td>29.75</td>\n",
              "      <td>15.40</td>\n",
              "    </tr>\n",
              "    <tr>\n",
              "      <th>743</th>\n",
              "      <td>50.80</td>\n",
              "      <td>29.98</td>\n",
              "      <td>10.40</td>\n",
              "    </tr>\n",
              "    <tr>\n",
              "      <th>178</th>\n",
              "      <td>65.20</td>\n",
              "      <td>30.09</td>\n",
              "      <td>6.10</td>\n",
              "    </tr>\n",
              "    <tr>\n",
              "      <th>597</th>\n",
              "      <td>78.20</td>\n",
              "      <td>29.79</td>\n",
              "      <td>6.67</td>\n",
              "    </tr>\n",
              "  </tbody>\n",
              "</table>\n",
              "</div>"
            ],
            "text/plain": [
              "       avg  Sea_level_pressure  Visibility\n",
              "591  43.25               30.29        1.61\n",
              "184  85.00               29.75       15.40\n",
              "743  50.80               29.98       10.40\n",
              "178  65.20               30.09        6.10\n",
              "597  78.20               29.79        6.67"
            ]
          },
          "metadata": {
            "tags": []
          },
          "execution_count": 331
        }
      ]
    },
    {
      "cell_type": "code",
      "metadata": {
        "id": "G_w9ze7HMdef",
        "colab_type": "code",
        "colab": {
          "base_uri": "https://localhost:8080/",
          "height": 238
        },
        "outputId": "a73ff922-1fa6-46ab-dafc-7b524ef1eed8"
      },
      "source": [
        "#X_train=normalize(X_train)\n",
        "#X_val=normalize(X_val)\n",
        "#print(X_train.shape)\n",
        "#print(y_train)"
      ],
      "execution_count": 265,
      "outputs": [
        {
          "output_type": "stream",
          "text": [
            "(934, 2)\n",
            "591     41.0\n",
            "184     84.8\n",
            "743     49.8\n",
            "178     64.6\n",
            "597     78.5\n",
            "        ... \n",
            "1044    56.5\n",
            "1095    56.0\n",
            "1130    64.0\n",
            "860     40.6\n",
            "1126    55.3\n",
            "Name: Mean_temperature, Length: 934, dtype: float64\n"
          ],
          "name": "stdout"
        }
      ]
    },
    {
      "cell_type": "code",
      "metadata": {
        "id": "niV7EKYfAwD7",
        "colab_type": "code",
        "colab": {}
      },
      "source": [
        "regressor = LinearRegression()\n",
        "regressor=RandomForestRegressor()\n",
        "regressor=MLPRegressor(hidden_layer_sizes=(100,2))\n",
        "#regressor=SVR(kernel='rbf', C=100, gamma=0.1, epsilon=.1)\n",
        "\n",
        "regressor.fit(X_train, y_train)\n",
        "y_pred = regressor.predict(X_val)\n",
        "\n",
        "#regressor = xgboost.XGBRegressor(random_state=42)\n",
        "#regressor.fit( X_train, y_train, early_stopping_rounds=10,eval_set=[(X_val, y_val)] )\n",
        "#y_pred = regressor.predict(X_val)\n",
        "\n"
      ],
      "execution_count": 0,
      "outputs": []
    },
    {
      "cell_type": "code",
      "metadata": {
        "id": "Ng54YLjwA8ei",
        "colab_type": "code",
        "colab": {
          "base_uri": "https://localhost:8080/",
          "height": 51
        },
        "outputId": "eff49614-386a-4921-c670-d36ed82cb7f6"
      },
      "source": [
        "mse = mean_squared_error(y_val,y_pred)\n",
        "mae = mean_absolute_error(y_val,y_pred)\n",
        "\n",
        "print(\"MSE of the model is :\" ,mse)\n",
        "print(\"MAE of the model is :\" ,mae)"
      ],
      "execution_count": 339,
      "outputs": [
        {
          "output_type": "stream",
          "text": [
            "MSE of the model is : 2.1094761805326265\n",
            "MAE of the model is : 1.0563457795258422\n"
          ],
          "name": "stdout"
        }
      ]
    },
    {
      "cell_type": "code",
      "metadata": {
        "id": "KeLNvp4EBDpc",
        "colab_type": "code",
        "colab": {
          "base_uri": "https://localhost:8080/",
          "height": 375
        },
        "outputId": "126deab6-6122-4f24-a534-5f45639f73d9"
      },
      "source": [
        "final_test_path = \"data/test.csv\"\n",
        "final_test = pd.read_csv(final_test_path)\n",
        "\n",
        "final_test=final_test[features]\n",
        "\n",
        "submission = regressor.predict(final_test)\n",
        "\n",
        "\n",
        "submission = pd.DataFrame(submission)\n",
        "submission.to_csv('submission.csv',header=['mean_temp'],index=False)"
      ],
      "execution_count": 336,
      "outputs": [
        {
          "output_type": "error",
          "ename": "KeyError",
          "evalue": "ignored",
          "traceback": [
            "\u001b[0;31m---------------------------------------------------------------------------\u001b[0m",
            "\u001b[0;31mKeyError\u001b[0m                                  Traceback (most recent call last)",
            "\u001b[0;32m<ipython-input-336-b6efd13c2f21>\u001b[0m in \u001b[0;36m<module>\u001b[0;34m()\u001b[0m\n\u001b[1;32m      2\u001b[0m \u001b[0mfinal_test\u001b[0m \u001b[0;34m=\u001b[0m \u001b[0mpd\u001b[0m\u001b[0;34m.\u001b[0m\u001b[0mread_csv\u001b[0m\u001b[0;34m(\u001b[0m\u001b[0mfinal_test_path\u001b[0m\u001b[0;34m)\u001b[0m\u001b[0;34m\u001b[0m\u001b[0;34m\u001b[0m\u001b[0m\n\u001b[1;32m      3\u001b[0m \u001b[0;34m\u001b[0m\u001b[0m\n\u001b[0;32m----> 4\u001b[0;31m \u001b[0mfinal_test\u001b[0m\u001b[0;34m=\u001b[0m\u001b[0mfinal_test\u001b[0m\u001b[0;34m[\u001b[0m\u001b[0mfeatures\u001b[0m\u001b[0;34m]\u001b[0m\u001b[0;34m\u001b[0m\u001b[0;34m\u001b[0m\u001b[0m\n\u001b[0m\u001b[1;32m      5\u001b[0m \u001b[0;34m\u001b[0m\u001b[0m\n\u001b[1;32m      6\u001b[0m \u001b[0msubmission\u001b[0m \u001b[0;34m=\u001b[0m \u001b[0mregressor\u001b[0m\u001b[0;34m.\u001b[0m\u001b[0mpredict\u001b[0m\u001b[0;34m(\u001b[0m\u001b[0mfinal_test\u001b[0m\u001b[0;34m)\u001b[0m\u001b[0;34m\u001b[0m\u001b[0;34m\u001b[0m\u001b[0m\n",
            "\u001b[0;32m/usr/local/lib/python3.6/dist-packages/pandas/core/frame.py\u001b[0m in \u001b[0;36m__getitem__\u001b[0;34m(self, key)\u001b[0m\n\u001b[1;32m   2804\u001b[0m             \u001b[0;32mif\u001b[0m \u001b[0mis_iterator\u001b[0m\u001b[0;34m(\u001b[0m\u001b[0mkey\u001b[0m\u001b[0;34m)\u001b[0m\u001b[0;34m:\u001b[0m\u001b[0;34m\u001b[0m\u001b[0;34m\u001b[0m\u001b[0m\n\u001b[1;32m   2805\u001b[0m                 \u001b[0mkey\u001b[0m \u001b[0;34m=\u001b[0m \u001b[0mlist\u001b[0m\u001b[0;34m(\u001b[0m\u001b[0mkey\u001b[0m\u001b[0;34m)\u001b[0m\u001b[0;34m\u001b[0m\u001b[0;34m\u001b[0m\u001b[0m\n\u001b[0;32m-> 2806\u001b[0;31m             \u001b[0mindexer\u001b[0m \u001b[0;34m=\u001b[0m \u001b[0mself\u001b[0m\u001b[0;34m.\u001b[0m\u001b[0mloc\u001b[0m\u001b[0;34m.\u001b[0m\u001b[0m_get_listlike_indexer\u001b[0m\u001b[0;34m(\u001b[0m\u001b[0mkey\u001b[0m\u001b[0;34m,\u001b[0m \u001b[0maxis\u001b[0m\u001b[0;34m=\u001b[0m\u001b[0;36m1\u001b[0m\u001b[0;34m,\u001b[0m \u001b[0mraise_missing\u001b[0m\u001b[0;34m=\u001b[0m\u001b[0;32mTrue\u001b[0m\u001b[0;34m)\u001b[0m\u001b[0;34m[\u001b[0m\u001b[0;36m1\u001b[0m\u001b[0;34m]\u001b[0m\u001b[0;34m\u001b[0m\u001b[0;34m\u001b[0m\u001b[0m\n\u001b[0m\u001b[1;32m   2807\u001b[0m \u001b[0;34m\u001b[0m\u001b[0m\n\u001b[1;32m   2808\u001b[0m         \u001b[0;31m# take() does not accept boolean indexers\u001b[0m\u001b[0;34m\u001b[0m\u001b[0;34m\u001b[0m\u001b[0;34m\u001b[0m\u001b[0m\n",
            "\u001b[0;32m/usr/local/lib/python3.6/dist-packages/pandas/core/indexing.py\u001b[0m in \u001b[0;36m_get_listlike_indexer\u001b[0;34m(self, key, axis, raise_missing)\u001b[0m\n\u001b[1;32m   1551\u001b[0m \u001b[0;34m\u001b[0m\u001b[0m\n\u001b[1;32m   1552\u001b[0m         self._validate_read_indexer(\n\u001b[0;32m-> 1553\u001b[0;31m             \u001b[0mkeyarr\u001b[0m\u001b[0;34m,\u001b[0m \u001b[0mindexer\u001b[0m\u001b[0;34m,\u001b[0m \u001b[0mo\u001b[0m\u001b[0;34m.\u001b[0m\u001b[0m_get_axis_number\u001b[0m\u001b[0;34m(\u001b[0m\u001b[0maxis\u001b[0m\u001b[0;34m)\u001b[0m\u001b[0;34m,\u001b[0m \u001b[0mraise_missing\u001b[0m\u001b[0;34m=\u001b[0m\u001b[0mraise_missing\u001b[0m\u001b[0;34m\u001b[0m\u001b[0;34m\u001b[0m\u001b[0m\n\u001b[0m\u001b[1;32m   1554\u001b[0m         )\n\u001b[1;32m   1555\u001b[0m         \u001b[0;32mreturn\u001b[0m \u001b[0mkeyarr\u001b[0m\u001b[0;34m,\u001b[0m \u001b[0mindexer\u001b[0m\u001b[0;34m\u001b[0m\u001b[0;34m\u001b[0m\u001b[0m\n",
            "\u001b[0;32m/usr/local/lib/python3.6/dist-packages/pandas/core/indexing.py\u001b[0m in \u001b[0;36m_validate_read_indexer\u001b[0;34m(self, key, indexer, axis, raise_missing)\u001b[0m\n\u001b[1;32m   1644\u001b[0m             \u001b[0;32mif\u001b[0m \u001b[0;32mnot\u001b[0m \u001b[0;34m(\u001b[0m\u001b[0mself\u001b[0m\u001b[0;34m.\u001b[0m\u001b[0mname\u001b[0m \u001b[0;34m==\u001b[0m \u001b[0;34m\"loc\"\u001b[0m \u001b[0;32mand\u001b[0m \u001b[0;32mnot\u001b[0m \u001b[0mraise_missing\u001b[0m\u001b[0;34m)\u001b[0m\u001b[0;34m:\u001b[0m\u001b[0;34m\u001b[0m\u001b[0;34m\u001b[0m\u001b[0m\n\u001b[1;32m   1645\u001b[0m                 \u001b[0mnot_found\u001b[0m \u001b[0;34m=\u001b[0m \u001b[0mlist\u001b[0m\u001b[0;34m(\u001b[0m\u001b[0mset\u001b[0m\u001b[0;34m(\u001b[0m\u001b[0mkey\u001b[0m\u001b[0;34m)\u001b[0m \u001b[0;34m-\u001b[0m \u001b[0mset\u001b[0m\u001b[0;34m(\u001b[0m\u001b[0max\u001b[0m\u001b[0;34m)\u001b[0m\u001b[0;34m)\u001b[0m\u001b[0;34m\u001b[0m\u001b[0;34m\u001b[0m\u001b[0m\n\u001b[0;32m-> 1646\u001b[0;31m                 \u001b[0;32mraise\u001b[0m \u001b[0mKeyError\u001b[0m\u001b[0;34m(\u001b[0m\u001b[0;34mf\"{not_found} not in index\"\u001b[0m\u001b[0;34m)\u001b[0m\u001b[0;34m\u001b[0m\u001b[0;34m\u001b[0m\u001b[0m\n\u001b[0m\u001b[1;32m   1647\u001b[0m \u001b[0;34m\u001b[0m\u001b[0m\n\u001b[1;32m   1648\u001b[0m             \u001b[0;31m# we skip the warning on Categorical/Interval\u001b[0m\u001b[0;34m\u001b[0m\u001b[0;34m\u001b[0m\u001b[0;34m\u001b[0m\u001b[0m\n",
            "\u001b[0;31mKeyError\u001b[0m: \"['avg'] not in index\""
          ]
        }
      ]
    },
    {
      "cell_type": "code",
      "metadata": {
        "id": "gORsyC-JBPAm",
        "colab_type": "code",
        "colab": {}
      },
      "source": [
        "from google.colab import files\n",
        "files.download('submission.csv') "
      ],
      "execution_count": 0,
      "outputs": []
    }
  ]
}