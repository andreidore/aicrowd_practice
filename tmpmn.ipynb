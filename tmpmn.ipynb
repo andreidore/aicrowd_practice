{
  "nbformat": 4,
  "nbformat_minor": 0,
  "metadata": {
    "colab": {
      "name": "tmpmn.ipynb",
      "provenance": [],
      "authorship_tag": "ABX9TyPMT8rko+JOc4yyUWkNtxCo",
      "include_colab_link": true
    },
    "kernelspec": {
      "name": "python3",
      "display_name": "Python 3"
    }
  },
  "cells": [
    {
      "cell_type": "markdown",
      "metadata": {
        "id": "view-in-github",
        "colab_type": "text"
      },
      "source": [
        "<a href=\"https://colab.research.google.com/github/andreidore/aicrowd_practice/blob/master/tmpmn.ipynb\" target=\"_parent\"><img src=\"https://colab.research.google.com/assets/colab-badge.svg\" alt=\"Open In Colab\"/></a>"
      ]
    },
    {
      "cell_type": "code",
      "metadata": {
        "id": "7NM2Iphu-H2U",
        "colab_type": "code",
        "colab": {}
      },
      "source": [
        "import seaborn as sns\n",
        "import pandas as pd\n",
        "import numpy as np\n",
        "from sklearn.model_selection import train_test_split\n",
        "from sklearn.linear_model import LogisticRegression\n",
        "from sklearn.linear_model import LinearRegression\n",
        "from sklearn.neural_network import MLPRegressor\n",
        "from sklearn.ensemble import RandomForestRegressor\n",
        "from sklearn.preprocessing import normalize\n",
        "from sklearn.svm import SVC, SVR\n",
        "from sklearn.metrics import mean_absolute_error,mean_squared_error\n",
        "import xgboost\n",
        "\n"
      ],
      "execution_count": 0,
      "outputs": []
    },
    {
      "cell_type": "code",
      "metadata": {
        "id": "K74OryMW__9y",
        "colab_type": "code",
        "colab": {
          "base_uri": "https://localhost:8080/",
          "height": 391
        },
        "outputId": "7ec921f8-a967-462b-9f34-399235309a7d"
      },
      "source": [
        "!rm -rf data\n",
        "!mkdir data\n",
        "!wget https://s3.eu-central-1.wasabisys.com/aicrowd-practice-challenges/public/tmpmn/v0.1/test.csv\n",
        "!wget https://s3.eu-central-1.wasabisys.com/aicrowd-practice-challenges/public/tmpmn/v0.1/train.csv\n",
        "!mv train.csv data/train.csv\n",
        "!mv test.csv data/test.csv"
      ],
      "execution_count": 2,
      "outputs": [
        {
          "output_type": "stream",
          "text": [
            "--2020-05-20 16:52:26--  https://s3.eu-central-1.wasabisys.com/aicrowd-practice-challenges/public/tmpmn/v0.1/test.csv\n",
            "Resolving s3.eu-central-1.wasabisys.com (s3.eu-central-1.wasabisys.com)... 130.117.252.10, 130.117.252.13, 130.117.252.16, ...\n",
            "Connecting to s3.eu-central-1.wasabisys.com (s3.eu-central-1.wasabisys.com)|130.117.252.10|:443... connected.\n",
            "HTTP request sent, awaiting response... 200 OK\n",
            "Length: 13261 (13K) [text/csv]\n",
            "Saving to: ‘test.csv’\n",
            "\n",
            "test.csv            100%[===================>]  12.95K  56.5KB/s    in 0.2s    \n",
            "\n",
            "2020-05-20 16:52:27 (56.5 KB/s) - ‘test.csv’ saved [13261/13261]\n",
            "\n",
            "--2020-05-20 16:52:28--  https://s3.eu-central-1.wasabisys.com/aicrowd-practice-challenges/public/tmpmn/v0.1/train.csv\n",
            "Resolving s3.eu-central-1.wasabisys.com (s3.eu-central-1.wasabisys.com)... 130.117.252.10, 130.117.252.13, 130.117.252.16, ...\n",
            "Connecting to s3.eu-central-1.wasabisys.com (s3.eu-central-1.wasabisys.com)|130.117.252.10|:443... connected.\n",
            "HTTP request sent, awaiting response... 200 OK\n",
            "Length: 58422 (57K) [text/csv]\n",
            "Saving to: ‘train.csv’\n",
            "\n",
            "train.csv           100%[===================>]  57.05K   123KB/s    in 0.5s    \n",
            "\n",
            "2020-05-20 16:52:30 (123 KB/s) - ‘train.csv’ saved [58422/58422]\n",
            "\n"
          ],
          "name": "stdout"
        }
      ]
    },
    {
      "cell_type": "code",
      "metadata": {
        "id": "S_t6xnvmAJL2",
        "colab_type": "code",
        "colab": {}
      },
      "source": [
        "all_data_path = \"data/train.csv\" #path where data is stored"
      ],
      "execution_count": 0,
      "outputs": []
    },
    {
      "cell_type": "code",
      "metadata": {
        "id": "H50cKYuPALDg",
        "colab_type": "code",
        "colab": {
          "base_uri": "https://localhost:8080/",
          "height": 204
        },
        "outputId": "8992ce1c-e4e1-4e33-ab62-7db3bd07e9f4"
      },
      "source": [
        "all_data = pd.read_csv(all_data_path)\n",
        "all_data.head()"
      ],
      "execution_count": 217,
      "outputs": [
        {
          "output_type": "execute_result",
          "data": {
            "text/html": [
              "<div>\n",
              "<style scoped>\n",
              "    .dataframe tbody tr th:only-of-type {\n",
              "        vertical-align: middle;\n",
              "    }\n",
              "\n",
              "    .dataframe tbody tr th {\n",
              "        vertical-align: top;\n",
              "    }\n",
              "\n",
              "    .dataframe thead th {\n",
              "        text-align: right;\n",
              "    }\n",
              "</style>\n",
              "<table border=\"1\" class=\"dataframe\">\n",
              "  <thead>\n",
              "    <tr style=\"text-align: right;\">\n",
              "      <th></th>\n",
              "      <th>Max_temperature</th>\n",
              "      <th>Min_temperature</th>\n",
              "      <th>Dewpoint</th>\n",
              "      <th>Precipitation</th>\n",
              "      <th>Sea_level_pressure</th>\n",
              "      <th>Standard_pressure</th>\n",
              "      <th>Visibility</th>\n",
              "      <th>Wind_speed</th>\n",
              "      <th>Max_wind_speed</th>\n",
              "      <th>Mean_temperature</th>\n",
              "    </tr>\n",
              "  </thead>\n",
              "  <tbody>\n",
              "    <tr>\n",
              "      <th>0</th>\n",
              "      <td>86.5</td>\n",
              "      <td>57.6</td>\n",
              "      <td>56.5</td>\n",
              "      <td>0.0</td>\n",
              "      <td>29.93</td>\n",
              "      <td>7.4</td>\n",
              "      <td>7.48</td>\n",
              "      <td>13.8</td>\n",
              "      <td>34.28</td>\n",
              "      <td>72.4</td>\n",
              "    </tr>\n",
              "    <tr>\n",
              "      <th>1</th>\n",
              "      <td>55.6</td>\n",
              "      <td>37.4</td>\n",
              "      <td>36.1</td>\n",
              "      <td>0.0</td>\n",
              "      <td>30.30</td>\n",
              "      <td>7.5</td>\n",
              "      <td>12.70</td>\n",
              "      <td>20.8</td>\n",
              "      <td>34.28</td>\n",
              "      <td>46.6</td>\n",
              "    </tr>\n",
              "    <tr>\n",
              "      <th>2</th>\n",
              "      <td>85.6</td>\n",
              "      <td>62.4</td>\n",
              "      <td>52.8</td>\n",
              "      <td>0.0</td>\n",
              "      <td>29.94</td>\n",
              "      <td>7.4</td>\n",
              "      <td>10.40</td>\n",
              "      <td>16.1</td>\n",
              "      <td>34.28</td>\n",
              "      <td>74.3</td>\n",
              "    </tr>\n",
              "    <tr>\n",
              "      <th>3</th>\n",
              "      <td>75.2</td>\n",
              "      <td>53.6</td>\n",
              "      <td>46.9</td>\n",
              "      <td>0.0</td>\n",
              "      <td>29.93</td>\n",
              "      <td>7.3</td>\n",
              "      <td>19.70</td>\n",
              "      <td>25.3</td>\n",
              "      <td>34.28</td>\n",
              "      <td>62.8</td>\n",
              "    </tr>\n",
              "    <tr>\n",
              "      <th>4</th>\n",
              "      <td>60.8</td>\n",
              "      <td>34.0</td>\n",
              "      <td>41.9</td>\n",
              "      <td>0.0</td>\n",
              "      <td>30.04</td>\n",
              "      <td>6.4</td>\n",
              "      <td>9.09</td>\n",
              "      <td>16.1</td>\n",
              "      <td>34.28</td>\n",
              "      <td>49.9</td>\n",
              "    </tr>\n",
              "  </tbody>\n",
              "</table>\n",
              "</div>"
            ],
            "text/plain": [
              "   Max_temperature  Min_temperature  ...  Max_wind_speed  Mean_temperature\n",
              "0             86.5             57.6  ...           34.28              72.4\n",
              "1             55.6             37.4  ...           34.28              46.6\n",
              "2             85.6             62.4  ...           34.28              74.3\n",
              "3             75.2             53.6  ...           34.28              62.8\n",
              "4             60.8             34.0  ...           34.28              49.9\n",
              "\n",
              "[5 rows x 10 columns]"
            ]
          },
          "metadata": {
            "tags": []
          },
          "execution_count": 217
        }
      ]
    },
    {
      "cell_type": "code",
      "metadata": {
        "id": "7GWIFKnMPxHc",
        "colab_type": "code",
        "colab": {
          "base_uri": "https://localhost:8080/",
          "height": 297
        },
        "outputId": "cb4975ef-524f-410d-8a55-f218c2242fa8"
      },
      "source": [
        "all_data.describe()"
      ],
      "execution_count": 105,
      "outputs": [
        {
          "output_type": "execute_result",
          "data": {
            "text/html": [
              "<div>\n",
              "<style scoped>\n",
              "    .dataframe tbody tr th:only-of-type {\n",
              "        vertical-align: middle;\n",
              "    }\n",
              "\n",
              "    .dataframe tbody tr th {\n",
              "        vertical-align: top;\n",
              "    }\n",
              "\n",
              "    .dataframe thead th {\n",
              "        text-align: right;\n",
              "    }\n",
              "</style>\n",
              "<table border=\"1\" class=\"dataframe\">\n",
              "  <thead>\n",
              "    <tr style=\"text-align: right;\">\n",
              "      <th></th>\n",
              "      <th>Max_temperature</th>\n",
              "      <th>Min_temperature</th>\n",
              "      <th>Dewpoint</th>\n",
              "      <th>Precipitation</th>\n",
              "      <th>Sea_level_pressure</th>\n",
              "      <th>Standard_pressure</th>\n",
              "      <th>Visibility</th>\n",
              "      <th>Wind_speed</th>\n",
              "      <th>Max_wind_speed</th>\n",
              "      <th>Mean_temperature</th>\n",
              "    </tr>\n",
              "  </thead>\n",
              "  <tbody>\n",
              "    <tr>\n",
              "      <th>count</th>\n",
              "      <td>1168.000000</td>\n",
              "      <td>1168.000000</td>\n",
              "      <td>1168.000000</td>\n",
              "      <td>1168.000000</td>\n",
              "      <td>1168.000000</td>\n",
              "      <td>1168.000000</td>\n",
              "      <td>1168.000000</td>\n",
              "      <td>1168.000000</td>\n",
              "      <td>1168.000000</td>\n",
              "      <td>1168.000000</td>\n",
              "    </tr>\n",
              "    <tr>\n",
              "      <th>mean</th>\n",
              "      <td>72.569692</td>\n",
              "      <td>51.030308</td>\n",
              "      <td>46.721421</td>\n",
              "      <td>0.098596</td>\n",
              "      <td>29.967611</td>\n",
              "      <td>7.195976</td>\n",
              "      <td>11.240265</td>\n",
              "      <td>19.905402</td>\n",
              "      <td>34.294033</td>\n",
              "      <td>61.847774</td>\n",
              "    </tr>\n",
              "    <tr>\n",
              "      <th>std</th>\n",
              "      <td>16.026870</td>\n",
              "      <td>13.157508</td>\n",
              "      <td>9.303466</td>\n",
              "      <td>0.375938</td>\n",
              "      <td>0.166530</td>\n",
              "      <td>0.684027</td>\n",
              "      <td>5.379394</td>\n",
              "      <td>6.942334</td>\n",
              "      <td>2.435109</td>\n",
              "      <td>14.444963</td>\n",
              "    </tr>\n",
              "    <tr>\n",
              "      <th>min</th>\n",
              "      <td>36.700000</td>\n",
              "      <td>15.800000</td>\n",
              "      <td>13.600000</td>\n",
              "      <td>0.000000</td>\n",
              "      <td>29.260000</td>\n",
              "      <td>2.500000</td>\n",
              "      <td>0.920000</td>\n",
              "      <td>4.720000</td>\n",
              "      <td>16.110000</td>\n",
              "      <td>29.400000</td>\n",
              "    </tr>\n",
              "    <tr>\n",
              "      <th>25%</th>\n",
              "      <td>59.000000</td>\n",
              "      <td>40.950000</td>\n",
              "      <td>41.400000</td>\n",
              "      <td>0.000000</td>\n",
              "      <td>29.850000</td>\n",
              "      <td>7.100000</td>\n",
              "      <td>6.670000</td>\n",
              "      <td>16.100000</td>\n",
              "      <td>34.280000</td>\n",
              "      <td>49.775000</td>\n",
              "    </tr>\n",
              "    <tr>\n",
              "      <th>50%</th>\n",
              "      <td>71.600000</td>\n",
              "      <td>50.600000</td>\n",
              "      <td>48.400000</td>\n",
              "      <td>0.000000</td>\n",
              "      <td>29.950000</td>\n",
              "      <td>7.300000</td>\n",
              "      <td>10.800000</td>\n",
              "      <td>20.800000</td>\n",
              "      <td>34.280000</td>\n",
              "      <td>60.750000</td>\n",
              "    </tr>\n",
              "    <tr>\n",
              "      <th>75%</th>\n",
              "      <td>87.800000</td>\n",
              "      <td>62.250000</td>\n",
              "      <td>53.700000</td>\n",
              "      <td>0.000000</td>\n",
              "      <td>30.070000</td>\n",
              "      <td>7.600000</td>\n",
              "      <td>15.500000</td>\n",
              "      <td>23.000000</td>\n",
              "      <td>34.280000</td>\n",
              "      <td>75.700000</td>\n",
              "    </tr>\n",
              "    <tr>\n",
              "      <th>max</th>\n",
              "      <td>105.000000</td>\n",
              "      <td>78.400000</td>\n",
              "      <td>64.400000</td>\n",
              "      <td>7.600000</td>\n",
              "      <td>30.480000</td>\n",
              "      <td>10.100000</td>\n",
              "      <td>29.100000</td>\n",
              "      <td>64.300000</td>\n",
              "      <td>55.240000</td>\n",
              "      <td>89.000000</td>\n",
              "    </tr>\n",
              "  </tbody>\n",
              "</table>\n",
              "</div>"
            ],
            "text/plain": [
              "       Max_temperature  Min_temperature  ...  Max_wind_speed  Mean_temperature\n",
              "count      1168.000000      1168.000000  ...     1168.000000       1168.000000\n",
              "mean         72.569692        51.030308  ...       34.294033         61.847774\n",
              "std          16.026870        13.157508  ...        2.435109         14.444963\n",
              "min          36.700000        15.800000  ...       16.110000         29.400000\n",
              "25%          59.000000        40.950000  ...       34.280000         49.775000\n",
              "50%          71.600000        50.600000  ...       34.280000         60.750000\n",
              "75%          87.800000        62.250000  ...       34.280000         75.700000\n",
              "max         105.000000        78.400000  ...       55.240000         89.000000\n",
              "\n",
              "[8 rows x 10 columns]"
            ]
          },
          "metadata": {
            "tags": []
          },
          "execution_count": 105
        }
      ]
    },
    {
      "cell_type": "code",
      "metadata": {
        "id": "7M53KxTiS0MF",
        "colab_type": "code",
        "colab": {
          "base_uri": "https://localhost:8080/",
          "height": 372
        },
        "outputId": "c2b4b768-1435-42bd-c8c5-eb8ce09ba78a"
      },
      "source": [
        "sns.heatmap(all_data.corr(), annot = True)"
      ],
      "execution_count": 191,
      "outputs": [
        {
          "output_type": "execute_result",
          "data": {
            "text/plain": [
              "<matplotlib.axes._subplots.AxesSubplot at 0x7f2c68a84080>"
            ]
          },
          "metadata": {
            "tags": []
          },
          "execution_count": 191
        },
        {
          "output_type": "display_data",
          "data": {
            "image/png": "[encoded data removed]",
            "text/plain": [
              "<Figure size 432x288 with 2 Axes>"
            ]
          },
          "metadata": {
            "tags": [],
            "needs_background": "light"
          }
        }
      ]
    },
    {
      "cell_type": "code",
      "metadata": {
        "id": "kImF6Ml7qThZ",
        "colab_type": "code",
        "colab": {
          "base_uri": "https://localhost:8080/",
          "height": 187
        },
        "outputId": "819f6852-58db-4b7e-dcb8-14630db5cf11"
      },
      "source": [
        "all_data.drop(\"Mean_temperature\", axis=1).apply(lambda x: x.corr(all_data[\"Mean_temperature\"]))"
      ],
      "execution_count": 194,
      "outputs": [
        {
          "output_type": "execute_result",
          "data": {
            "text/plain": [
              "Max_temperature       0.978845\n",
              "Min_temperature       0.957402\n",
              "Dewpoint              0.781420\n",
              "Precipitation        -0.152560\n",
              "Sea_level_pressure   -0.574501\n",
              "Standard_pressure     0.137732\n",
              "Visibility            0.226826\n",
              "Wind_speed            0.184264\n",
              "Max_wind_speed       -0.133136\n",
              "dtype: float64"
            ]
          },
          "metadata": {
            "tags": []
          },
          "execution_count": 194
        }
      ]
    },
    {
      "cell_type": "code",
      "metadata": {
        "id": "NuAI5YGfFcHS",
        "colab_type": "code",
        "colab": {
          "base_uri": "https://localhost:8080/",
          "height": 85
        },
        "outputId": "7fe2de62-8b00-4c3c-da1c-0308b0c05624"
      },
      "source": [
        "all_data.columns"
      ],
      "execution_count": 47,
      "outputs": [
        {
          "output_type": "execute_result",
          "data": {
            "text/plain": [
              "Index(['Max_temperature', 'Min_temperature', 'Dewpoint', 'Precipitation',\n",
              "       'Sea_level_pressure', 'Standard_pressure', 'Visibility', 'Wind_speed',\n",
              "       'Max_wind_speed', 'Mean_temperature'],\n",
              "      dtype='object')"
            ]
          },
          "metadata": {
            "tags": []
          },
          "execution_count": 47
        }
      ]
    },
    {
      "cell_type": "code",
      "metadata": {
        "id": "T204ZFdmQGF4",
        "colab_type": "code",
        "colab": {
          "base_uri": "https://localhost:8080/",
          "height": 221
        },
        "outputId": "6d724cee-7adb-46eb-92db-6b36e724df81"
      },
      "source": [
        "features=[\"Max_temperature\",\"Min_temperature\",\"Dewpoint\",\"Sea_level_pressure\",\"Visibility\"]\n",
        "target=[\"Mean_temperature\"]\n",
        "columns=list(features)\n",
        "columns.extend(target)\n",
        "print(columns)\n",
        "\n",
        "data=all_data[columns]\n",
        "data.head()"
      ],
      "execution_count": 269,
      "outputs": [
        {
          "output_type": "stream",
          "text": [
            "['Max_temperature', 'Min_temperature', 'Dewpoint', 'Sea_level_pressure', 'Visibility', 'Mean_temperature']\n"
          ],
          "name": "stdout"
        },
        {
          "output_type": "execute_result",
          "data": {
            "text/html": [
              "<div>\n",
              "<style scoped>\n",
              "    .dataframe tbody tr th:only-of-type {\n",
              "        vertical-align: middle;\n",
              "    }\n",
              "\n",
              "    .dataframe tbody tr th {\n",
              "        vertical-align: top;\n",
              "    }\n",
              "\n",
              "    .dataframe thead th {\n",
              "        text-align: right;\n",
              "    }\n",
              "</style>\n",
              "<table border=\"1\" class=\"dataframe\">\n",
              "  <thead>\n",
              "    <tr style=\"text-align: right;\">\n",
              "      <th></th>\n",
              "      <th>Max_temperature</th>\n",
              "      <th>Min_temperature</th>\n",
              "      <th>Dewpoint</th>\n",
              "      <th>Sea_level_pressure</th>\n",
              "      <th>Visibility</th>\n",
              "      <th>Mean_temperature</th>\n",
              "    </tr>\n",
              "  </thead>\n",
              "  <tbody>\n",
              "    <tr>\n",
              "      <th>0</th>\n",
              "      <td>86.5</td>\n",
              "      <td>57.6</td>\n",
              "      <td>56.5</td>\n",
              "      <td>29.93</td>\n",
              "      <td>7.48</td>\n",
              "      <td>72.4</td>\n",
              "    </tr>\n",
              "    <tr>\n",
              "      <th>1</th>\n",
              "      <td>55.6</td>\n",
              "      <td>37.4</td>\n",
              "      <td>36.1</td>\n",
              "      <td>30.30</td>\n",
              "      <td>12.70</td>\n",
              "      <td>46.6</td>\n",
              "    </tr>\n",
              "    <tr>\n",
              "      <th>2</th>\n",
              "      <td>85.6</td>\n",
              "      <td>62.4</td>\n",
              "      <td>52.8</td>\n",
              "      <td>29.94</td>\n",
              "      <td>10.40</td>\n",
              "      <td>74.3</td>\n",
              "    </tr>\n",
              "    <tr>\n",
              "      <th>3</th>\n",
              "      <td>75.2</td>\n",
              "      <td>53.6</td>\n",
              "      <td>46.9</td>\n",
              "      <td>29.93</td>\n",
              "      <td>19.70</td>\n",
              "      <td>62.8</td>\n",
              "    </tr>\n",
              "    <tr>\n",
              "      <th>4</th>\n",
              "      <td>60.8</td>\n",
              "      <td>34.0</td>\n",
              "      <td>41.9</td>\n",
              "      <td>30.04</td>\n",
              "      <td>9.09</td>\n",
              "      <td>49.9</td>\n",
              "    </tr>\n",
              "  </tbody>\n",
              "</table>\n",
              "</div>"
            ],
            "text/plain": [
              "   Max_temperature  Min_temperature  ...  Visibility  Mean_temperature\n",
              "0             86.5             57.6  ...        7.48              72.4\n",
              "1             55.6             37.4  ...       12.70              46.6\n",
              "2             85.6             62.4  ...       10.40              74.3\n",
              "3             75.2             53.6  ...       19.70              62.8\n",
              "4             60.8             34.0  ...        9.09              49.9\n",
              "\n",
              "[5 rows x 6 columns]"
            ]
          },
          "metadata": {
            "tags": []
          },
          "execution_count": 269
        }
      ]
    },
    {
      "cell_type": "code",
      "metadata": {
        "id": "MfQY_SPYAnGQ",
        "colab_type": "code",
        "colab": {
          "base_uri": "https://localhost:8080/",
          "height": 204
        },
        "outputId": "efaf13f5-6c29-4818-9d49-76ac7138ab7f"
      },
      "source": [
        "X_train, X_val= train_test_split(data, test_size=0.2, random_state=42)\n",
        "X_train,y_train = X_train.iloc[:,:-1],X_train.iloc[:,-1]\n",
        "X_val,y_val = X_val.iloc[:,:-1],X_val.iloc[:,-1]\n",
        "\n",
        "X_train.head()"
      ],
      "execution_count": 270,
      "outputs": [
        {
          "output_type": "execute_result",
          "data": {
            "text/html": [
              "<div>\n",
              "<style scoped>\n",
              "    .dataframe tbody tr th:only-of-type {\n",
              "        vertical-align: middle;\n",
              "    }\n",
              "\n",
              "    .dataframe tbody tr th {\n",
              "        vertical-align: top;\n",
              "    }\n",
              "\n",
              "    .dataframe thead th {\n",
              "        text-align: right;\n",
              "    }\n",
              "</style>\n",
              "<table border=\"1\" class=\"dataframe\">\n",
              "  <thead>\n",
              "    <tr style=\"text-align: right;\">\n",
              "      <th></th>\n",
              "      <th>Max_temperature</th>\n",
              "      <th>Min_temperature</th>\n",
              "      <th>Dewpoint</th>\n",
              "      <th>Sea_level_pressure</th>\n",
              "      <th>Visibility</th>\n",
              "    </tr>\n",
              "  </thead>\n",
              "  <tbody>\n",
              "    <tr>\n",
              "      <th>591</th>\n",
              "      <td>59.0</td>\n",
              "      <td>27.5</td>\n",
              "      <td>27.4</td>\n",
              "      <td>30.29</td>\n",
              "      <td>1.61</td>\n",
              "    </tr>\n",
              "    <tr>\n",
              "      <th>184</th>\n",
              "      <td>96.8</td>\n",
              "      <td>73.2</td>\n",
              "      <td>61.7</td>\n",
              "      <td>29.75</td>\n",
              "      <td>15.40</td>\n",
              "    </tr>\n",
              "    <tr>\n",
              "      <th>743</th>\n",
              "      <td>61.0</td>\n",
              "      <td>40.6</td>\n",
              "      <td>39.3</td>\n",
              "      <td>29.98</td>\n",
              "      <td>10.40</td>\n",
              "    </tr>\n",
              "    <tr>\n",
              "      <th>178</th>\n",
              "      <td>77.2</td>\n",
              "      <td>53.2</td>\n",
              "      <td>51.5</td>\n",
              "      <td>30.09</td>\n",
              "      <td>6.10</td>\n",
              "    </tr>\n",
              "    <tr>\n",
              "      <th>597</th>\n",
              "      <td>95.2</td>\n",
              "      <td>61.2</td>\n",
              "      <td>51.2</td>\n",
              "      <td>29.79</td>\n",
              "      <td>6.67</td>\n",
              "    </tr>\n",
              "  </tbody>\n",
              "</table>\n",
              "</div>"
            ],
            "text/plain": [
              "     Max_temperature  Min_temperature  Dewpoint  Sea_level_pressure  Visibility\n",
              "591             59.0             27.5      27.4               30.29        1.61\n",
              "184             96.8             73.2      61.7               29.75       15.40\n",
              "743             61.0             40.6      39.3               29.98       10.40\n",
              "178             77.2             53.2      51.5               30.09        6.10\n",
              "597             95.2             61.2      51.2               29.79        6.67"
            ]
          },
          "metadata": {
            "tags": []
          },
          "execution_count": 270
        }
      ]
    },
    {
      "cell_type": "code",
      "metadata": {
        "id": "G_w9ze7HMdef",
        "colab_type": "code",
        "colab": {
          "base_uri": "https://localhost:8080/",
          "height": 238
        },
        "outputId": "a73ff922-1fa6-46ab-dafc-7b524ef1eed8"
      },
      "source": [
        "#X_train=normalize(X_train)\n",
        "#X_val=normalize(X_val)\n",
        "#print(X_train.shape)\n",
        "#print(y_train)"
      ],
      "execution_count": 265,
      "outputs": [
        {
          "output_type": "stream",
          "text": [
            "(934, 2)\n",
            "591     41.0\n",
            "184     84.8\n",
            "743     49.8\n",
            "178     64.6\n",
            "597     78.5\n",
            "        ... \n",
            "1044    56.5\n",
            "1095    56.0\n",
            "1130    64.0\n",
            "860     40.6\n",
            "1126    55.3\n",
            "Name: Mean_temperature, Length: 934, dtype: float64\n"
          ],
          "name": "stdout"
        }
      ]
    },
    {
      "cell_type": "code",
      "metadata": {
        "id": "niV7EKYfAwD7",
        "colab_type": "code",
        "colab": {}
      },
      "source": [
        "regressor = LinearRegression()\n",
        "#regressor=RandomForestRegressor()\n",
        "#regressor=MLPRegressor(hidden_layer_sizes=(100,3))\n",
        "#regressor=SVR(kernel='rbf', C=100, gamma=0.1, epsilon=.1)\n",
        "\n",
        "regressor.fit(X_train, y_train)\n",
        "y_pred = regressor.predict(X_val)\n",
        "\n",
        "#regressor = xgboost.XGBRegressor(random_state=42)\n",
        "#regressor.fit( X_train, y_train, early_stopping_rounds=10,eval_set=[(X_val, y_val)] )\n",
        "#y_pred = regressor.predict(X_val)\n",
        "\n"
      ],
      "execution_count": 0,
      "outputs": []
    },
    {
      "cell_type": "code",
      "metadata": {
        "id": "Ng54YLjwA8ei",
        "colab_type": "code",
        "colab": {
          "base_uri": "https://localhost:8080/",
          "height": 51
        },
        "outputId": "533b3134-248d-44a8-bfd3-4af98086db73"
      },
      "source": [
        "mse = mean_squared_error(y_val,y_pred)\n",
        "mae = mean_absolute_error(y_val,y_pred)\n",
        "\n",
        "print(\"MSE of the model is :\" ,mse)\n",
        "print(\"MAE of the model is :\" ,mae)"
      ],
      "execution_count": 273,
      "outputs": [
        {
          "output_type": "stream",
          "text": [
            "MSE of the model is : 1.7500468009643046\n",
            "MAE of the model is : 0.977157028167937\n"
          ],
          "name": "stdout"
        }
      ]
    },
    {
      "cell_type": "code",
      "metadata": {
        "id": "KeLNvp4EBDpc",
        "colab_type": "code",
        "colab": {}
      },
      "source": [
        "final_test_path = \"data/test.csv\"\n",
        "final_test = pd.read_csv(final_test_path)\n",
        "\n",
        "final_test=final_test[features]\n",
        "\n",
        "submission = regressor.predict(final_test)\n",
        "\n",
        "\n",
        "submission = pd.DataFrame(submission)\n",
        "submission.to_csv('submission.csv',header=['mean_temp'],index=False)"
      ],
      "execution_count": 0,
      "outputs": []
    },
    {
      "cell_type": "code",
      "metadata": {
        "id": "gORsyC-JBPAm",
        "colab_type": "code",
        "colab": {}
      },
      "source": [
        "from google.colab import files\n",
        "files.download('submission.csv') "
      ],
      "execution_count": 0,
      "outputs": []
    }
  ]
}