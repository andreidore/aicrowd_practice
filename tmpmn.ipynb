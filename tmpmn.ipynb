{
  "nbformat": 4,
  "nbformat_minor": 0,
  "metadata": {
    "colab": {
      "name": "tmpmn.ipynb",
      "provenance": [],
      "authorship_tag": "ABX9TyNDrPq2jG6WQ22GFCS0HZnL",
      "include_colab_link": true
    },
    "kernelspec": {
      "name": "python3",
      "display_name": "Python 3"
    }
  },
  "cells": [
    {
      "cell_type": "markdown",
      "metadata": {
        "id": "view-in-github",
        "colab_type": "text"
      },
      "source": [
        "<a href=\"https://colab.research.google.com/github/andreidore/aicrowd_practice/blob/master/tmpmn.ipynb\" target=\"_parent\"><img src=\"https://colab.research.google.com/assets/colab-badge.svg\" alt=\"Open In Colab\"/></a>"
      ]
    },
    {
      "cell_type": "code",
      "metadata": {
        "id": "7NM2Iphu-H2U",
        "colab_type": "code",
        "colab": {}
      },
      "source": [
        "import pandas as pd\n",
        "import numpy as np\n",
        "from sklearn.model_selection import train_test_split\n",
        "from sklearn.linear_model import LogisticRegression\n",
        "from sklearn.linear_model import LinearRegression\n",
        "from sklearn.neural_network import MLPRegressor\n",
        "from sklearn.ensemble import RandomForestRegressor\n",
        "from sklearn.preprocessing import normalize\n",
        "from sklearn.svm import SVC\n",
        "from sklearn.metrics import mean_absolute_error,mean_squared_error\n",
        "import xgboost\n",
        "\n"
      ],
      "execution_count": 0,
      "outputs": []
    },
    {
      "cell_type": "code",
      "metadata": {
        "id": "K74OryMW__9y",
        "colab_type": "code",
        "colab": {
          "base_uri": "https://localhost:8080/",
          "height": 391
        },
        "outputId": "7ec921f8-a967-462b-9f34-399235309a7d"
      },
      "source": [
        "!rm -rf data\n",
        "!mkdir data\n",
        "!wget https://s3.eu-central-1.wasabisys.com/aicrowd-practice-challenges/public/tmpmn/v0.1/test.csv\n",
        "!wget https://s3.eu-central-1.wasabisys.com/aicrowd-practice-challenges/public/tmpmn/v0.1/train.csv\n",
        "!mv train.csv data/train.csv\n",
        "!mv test.csv data/test.csv"
      ],
      "execution_count": 2,
      "outputs": [
        {
          "output_type": "stream",
          "text": [
            "--2020-05-20 16:52:26--  https://s3.eu-central-1.wasabisys.com/aicrowd-practice-challenges/public/tmpmn/v0.1/test.csv\n",
            "Resolving s3.eu-central-1.wasabisys.com (s3.eu-central-1.wasabisys.com)... 130.117.252.10, 130.117.252.13, 130.117.252.16, ...\n",
            "Connecting to s3.eu-central-1.wasabisys.com (s3.eu-central-1.wasabisys.com)|130.117.252.10|:443... connected.\n",
            "HTTP request sent, awaiting response... 200 OK\n",
            "Length: 13261 (13K) [text/csv]\n",
            "Saving to: ‘test.csv’\n",
            "\n",
            "test.csv            100%[===================>]  12.95K  56.5KB/s    in 0.2s    \n",
            "\n",
            "2020-05-20 16:52:27 (56.5 KB/s) - ‘test.csv’ saved [13261/13261]\n",
            "\n",
            "--2020-05-20 16:52:28--  https://s3.eu-central-1.wasabisys.com/aicrowd-practice-challenges/public/tmpmn/v0.1/train.csv\n",
            "Resolving s3.eu-central-1.wasabisys.com (s3.eu-central-1.wasabisys.com)... 130.117.252.10, 130.117.252.13, 130.117.252.16, ...\n",
            "Connecting to s3.eu-central-1.wasabisys.com (s3.eu-central-1.wasabisys.com)|130.117.252.10|:443... connected.\n",
            "HTTP request sent, awaiting response... 200 OK\n",
            "Length: 58422 (57K) [text/csv]\n",
            "Saving to: ‘train.csv’\n",
            "\n",
            "train.csv           100%[===================>]  57.05K   123KB/s    in 0.5s    \n",
            "\n",
            "2020-05-20 16:52:30 (123 KB/s) - ‘train.csv’ saved [58422/58422]\n",
            "\n"
          ],
          "name": "stdout"
        }
      ]
    },
    {
      "cell_type": "code",
      "metadata": {
        "id": "S_t6xnvmAJL2",
        "colab_type": "code",
        "colab": {}
      },
      "source": [
        "all_data_path = \"data/train.csv\" #path where data is stored"
      ],
      "execution_count": 0,
      "outputs": []
    },
    {
      "cell_type": "code",
      "metadata": {
        "id": "H50cKYuPALDg",
        "colab_type": "code",
        "colab": {
          "base_uri": "https://localhost:8080/",
          "height": 204
        },
        "outputId": "a75a880a-103d-49f6-c979-c37847332775"
      },
      "source": [
        "all_data = pd.read_csv(all_data_path)\n",
        "all_data.head()"
      ],
      "execution_count": 104,
      "outputs": [
        {
          "output_type": "execute_result",
          "data": {
            "text/html": [
              "<div>\n",
              "<style scoped>\n",
              "    .dataframe tbody tr th:only-of-type {\n",
              "        vertical-align: middle;\n",
              "    }\n",
              "\n",
              "    .dataframe tbody tr th {\n",
              "        vertical-align: top;\n",
              "    }\n",
              "\n",
              "    .dataframe thead th {\n",
              "        text-align: right;\n",
              "    }\n",
              "</style>\n",
              "<table border=\"1\" class=\"dataframe\">\n",
              "  <thead>\n",
              "    <tr style=\"text-align: right;\">\n",
              "      <th></th>\n",
              "      <th>Max_temperature</th>\n",
              "      <th>Min_temperature</th>\n",
              "      <th>Dewpoint</th>\n",
              "      <th>Precipitation</th>\n",
              "      <th>Sea_level_pressure</th>\n",
              "      <th>Standard_pressure</th>\n",
              "      <th>Visibility</th>\n",
              "      <th>Wind_speed</th>\n",
              "      <th>Max_wind_speed</th>\n",
              "      <th>Mean_temperature</th>\n",
              "    </tr>\n",
              "  </thead>\n",
              "  <tbody>\n",
              "    <tr>\n",
              "      <th>0</th>\n",
              "      <td>86.5</td>\n",
              "      <td>57.6</td>\n",
              "      <td>56.5</td>\n",
              "      <td>0.0</td>\n",
              "      <td>29.93</td>\n",
              "      <td>7.4</td>\n",
              "      <td>7.48</td>\n",
              "      <td>13.8</td>\n",
              "      <td>34.28</td>\n",
              "      <td>72.4</td>\n",
              "    </tr>\n",
              "    <tr>\n",
              "      <th>1</th>\n",
              "      <td>55.6</td>\n",
              "      <td>37.4</td>\n",
              "      <td>36.1</td>\n",
              "      <td>0.0</td>\n",
              "      <td>30.30</td>\n",
              "      <td>7.5</td>\n",
              "      <td>12.70</td>\n",
              "      <td>20.8</td>\n",
              "      <td>34.28</td>\n",
              "      <td>46.6</td>\n",
              "    </tr>\n",
              "    <tr>\n",
              "      <th>2</th>\n",
              "      <td>85.6</td>\n",
              "      <td>62.4</td>\n",
              "      <td>52.8</td>\n",
              "      <td>0.0</td>\n",
              "      <td>29.94</td>\n",
              "      <td>7.4</td>\n",
              "      <td>10.40</td>\n",
              "      <td>16.1</td>\n",
              "      <td>34.28</td>\n",
              "      <td>74.3</td>\n",
              "    </tr>\n",
              "    <tr>\n",
              "      <th>3</th>\n",
              "      <td>75.2</td>\n",
              "      <td>53.6</td>\n",
              "      <td>46.9</td>\n",
              "      <td>0.0</td>\n",
              "      <td>29.93</td>\n",
              "      <td>7.3</td>\n",
              "      <td>19.70</td>\n",
              "      <td>25.3</td>\n",
              "      <td>34.28</td>\n",
              "      <td>62.8</td>\n",
              "    </tr>\n",
              "    <tr>\n",
              "      <th>4</th>\n",
              "      <td>60.8</td>\n",
              "      <td>34.0</td>\n",
              "      <td>41.9</td>\n",
              "      <td>0.0</td>\n",
              "      <td>30.04</td>\n",
              "      <td>6.4</td>\n",
              "      <td>9.09</td>\n",
              "      <td>16.1</td>\n",
              "      <td>34.28</td>\n",
              "      <td>49.9</td>\n",
              "    </tr>\n",
              "  </tbody>\n",
              "</table>\n",
              "</div>"
            ],
            "text/plain": [
              "   Max_temperature  Min_temperature  ...  Max_wind_speed  Mean_temperature\n",
              "0             86.5             57.6  ...           34.28              72.4\n",
              "1             55.6             37.4  ...           34.28              46.6\n",
              "2             85.6             62.4  ...           34.28              74.3\n",
              "3             75.2             53.6  ...           34.28              62.8\n",
              "4             60.8             34.0  ...           34.28              49.9\n",
              "\n",
              "[5 rows x 10 columns]"
            ]
          },
          "metadata": {
            "tags": []
          },
          "execution_count": 104
        }
      ]
    },
    {
      "cell_type": "code",
      "metadata": {
        "id": "7GWIFKnMPxHc",
        "colab_type": "code",
        "colab": {
          "base_uri": "https://localhost:8080/",
          "height": 297
        },
        "outputId": "cb4975ef-524f-410d-8a55-f218c2242fa8"
      },
      "source": [
        "all_data.describe()"
      ],
      "execution_count": 105,
      "outputs": [
        {
          "output_type": "execute_result",
          "data": {
            "text/html": [
              "<div>\n",
              "<style scoped>\n",
              "    .dataframe tbody tr th:only-of-type {\n",
              "        vertical-align: middle;\n",
              "    }\n",
              "\n",
              "    .dataframe tbody tr th {\n",
              "        vertical-align: top;\n",
              "    }\n",
              "\n",
              "    .dataframe thead th {\n",
              "        text-align: right;\n",
              "    }\n",
              "</style>\n",
              "<table border=\"1\" class=\"dataframe\">\n",
              "  <thead>\n",
              "    <tr style=\"text-align: right;\">\n",
              "      <th></th>\n",
              "      <th>Max_temperature</th>\n",
              "      <th>Min_temperature</th>\n",
              "      <th>Dewpoint</th>\n",
              "      <th>Precipitation</th>\n",
              "      <th>Sea_level_pressure</th>\n",
              "      <th>Standard_pressure</th>\n",
              "      <th>Visibility</th>\n",
              "      <th>Wind_speed</th>\n",
              "      <th>Max_wind_speed</th>\n",
              "      <th>Mean_temperature</th>\n",
              "    </tr>\n",
              "  </thead>\n",
              "  <tbody>\n",
              "    <tr>\n",
              "      <th>count</th>\n",
              "      <td>1168.000000</td>\n",
              "      <td>1168.000000</td>\n",
              "      <td>1168.000000</td>\n",
              "      <td>1168.000000</td>\n",
              "      <td>1168.000000</td>\n",
              "      <td>1168.000000</td>\n",
              "      <td>1168.000000</td>\n",
              "      <td>1168.000000</td>\n",
              "      <td>1168.000000</td>\n",
              "      <td>1168.000000</td>\n",
              "    </tr>\n",
              "    <tr>\n",
              "      <th>mean</th>\n",
              "      <td>72.569692</td>\n",
              "      <td>51.030308</td>\n",
              "      <td>46.721421</td>\n",
              "      <td>0.098596</td>\n",
              "      <td>29.967611</td>\n",
              "      <td>7.195976</td>\n",
              "      <td>11.240265</td>\n",
              "      <td>19.905402</td>\n",
              "      <td>34.294033</td>\n",
              "      <td>61.847774</td>\n",
              "    </tr>\n",
              "    <tr>\n",
              "      <th>std</th>\n",
              "      <td>16.026870</td>\n",
              "      <td>13.157508</td>\n",
              "      <td>9.303466</td>\n",
              "      <td>0.375938</td>\n",
              "      <td>0.166530</td>\n",
              "      <td>0.684027</td>\n",
              "      <td>5.379394</td>\n",
              "      <td>6.942334</td>\n",
              "      <td>2.435109</td>\n",
              "      <td>14.444963</td>\n",
              "    </tr>\n",
              "    <tr>\n",
              "      <th>min</th>\n",
              "      <td>36.700000</td>\n",
              "      <td>15.800000</td>\n",
              "      <td>13.600000</td>\n",
              "      <td>0.000000</td>\n",
              "      <td>29.260000</td>\n",
              "      <td>2.500000</td>\n",
              "      <td>0.920000</td>\n",
              "      <td>4.720000</td>\n",
              "      <td>16.110000</td>\n",
              "      <td>29.400000</td>\n",
              "    </tr>\n",
              "    <tr>\n",
              "      <th>25%</th>\n",
              "      <td>59.000000</td>\n",
              "      <td>40.950000</td>\n",
              "      <td>41.400000</td>\n",
              "      <td>0.000000</td>\n",
              "      <td>29.850000</td>\n",
              "      <td>7.100000</td>\n",
              "      <td>6.670000</td>\n",
              "      <td>16.100000</td>\n",
              "      <td>34.280000</td>\n",
              "      <td>49.775000</td>\n",
              "    </tr>\n",
              "    <tr>\n",
              "      <th>50%</th>\n",
              "      <td>71.600000</td>\n",
              "      <td>50.600000</td>\n",
              "      <td>48.400000</td>\n",
              "      <td>0.000000</td>\n",
              "      <td>29.950000</td>\n",
              "      <td>7.300000</td>\n",
              "      <td>10.800000</td>\n",
              "      <td>20.800000</td>\n",
              "      <td>34.280000</td>\n",
              "      <td>60.750000</td>\n",
              "    </tr>\n",
              "    <tr>\n",
              "      <th>75%</th>\n",
              "      <td>87.800000</td>\n",
              "      <td>62.250000</td>\n",
              "      <td>53.700000</td>\n",
              "      <td>0.000000</td>\n",
              "      <td>30.070000</td>\n",
              "      <td>7.600000</td>\n",
              "      <td>15.500000</td>\n",
              "      <td>23.000000</td>\n",
              "      <td>34.280000</td>\n",
              "      <td>75.700000</td>\n",
              "    </tr>\n",
              "    <tr>\n",
              "      <th>max</th>\n",
              "      <td>105.000000</td>\n",
              "      <td>78.400000</td>\n",
              "      <td>64.400000</td>\n",
              "      <td>7.600000</td>\n",
              "      <td>30.480000</td>\n",
              "      <td>10.100000</td>\n",
              "      <td>29.100000</td>\n",
              "      <td>64.300000</td>\n",
              "      <td>55.240000</td>\n",
              "      <td>89.000000</td>\n",
              "    </tr>\n",
              "  </tbody>\n",
              "</table>\n",
              "</div>"
            ],
            "text/plain": [
              "       Max_temperature  Min_temperature  ...  Max_wind_speed  Mean_temperature\n",
              "count      1168.000000      1168.000000  ...     1168.000000       1168.000000\n",
              "mean         72.569692        51.030308  ...       34.294033         61.847774\n",
              "std          16.026870        13.157508  ...        2.435109         14.444963\n",
              "min          36.700000        15.800000  ...       16.110000         29.400000\n",
              "25%          59.000000        40.950000  ...       34.280000         49.775000\n",
              "50%          71.600000        50.600000  ...       34.280000         60.750000\n",
              "75%          87.800000        62.250000  ...       34.280000         75.700000\n",
              "max         105.000000        78.400000  ...       55.240000         89.000000\n",
              "\n",
              "[8 rows x 10 columns]"
            ]
          },
          "metadata": {
            "tags": []
          },
          "execution_count": 105
        }
      ]
    },
    {
      "cell_type": "code",
      "metadata": {
        "id": "7M53KxTiS0MF",
        "colab_type": "code",
        "colab": {
          "base_uri": "https://localhost:8080/",
          "height": 359
        },
        "outputId": "f8439c04-0195-402e-ee70-fbc5265bdd1f"
      },
      "source": [
        "all_data.corr()"
      ],
      "execution_count": 129,
      "outputs": [
        {
          "output_type": "execute_result",
          "data": {
            "text/html": [
              "<div>\n",
              "<style scoped>\n",
              "    .dataframe tbody tr th:only-of-type {\n",
              "        vertical-align: middle;\n",
              "    }\n",
              "\n",
              "    .dataframe tbody tr th {\n",
              "        vertical-align: top;\n",
              "    }\n",
              "\n",
              "    .dataframe thead th {\n",
              "        text-align: right;\n",
              "    }\n",
              "</style>\n",
              "<table border=\"1\" class=\"dataframe\">\n",
              "  <thead>\n",
              "    <tr style=\"text-align: right;\">\n",
              "      <th></th>\n",
              "      <th>Max_temperature</th>\n",
              "      <th>Min_temperature</th>\n",
              "      <th>Dewpoint</th>\n",
              "      <th>Precipitation</th>\n",
              "      <th>Sea_level_pressure</th>\n",
              "      <th>Standard_pressure</th>\n",
              "      <th>Visibility</th>\n",
              "      <th>Wind_speed</th>\n",
              "      <th>Max_wind_speed</th>\n",
              "      <th>Mean_temperature</th>\n",
              "    </tr>\n",
              "  </thead>\n",
              "  <tbody>\n",
              "    <tr>\n",
              "      <th>Max_temperature</th>\n",
              "      <td>1.000000</td>\n",
              "      <td>0.894336</td>\n",
              "      <td>0.745472</td>\n",
              "      <td>-0.198187</td>\n",
              "      <td>-0.501467</td>\n",
              "      <td>0.100538</td>\n",
              "      <td>0.115397</td>\n",
              "      <td>0.106632</td>\n",
              "      <td>-0.152013</td>\n",
              "      <td>0.978845</td>\n",
              "    </tr>\n",
              "    <tr>\n",
              "      <th>Min_temperature</th>\n",
              "      <td>0.894336</td>\n",
              "      <td>1.000000</td>\n",
              "      <td>0.784443</td>\n",
              "      <td>-0.080181</td>\n",
              "      <td>-0.620889</td>\n",
              "      <td>0.174288</td>\n",
              "      <td>0.356234</td>\n",
              "      <td>0.267949</td>\n",
              "      <td>-0.090023</td>\n",
              "      <td>0.957402</td>\n",
              "    </tr>\n",
              "    <tr>\n",
              "      <th>Dewpoint</th>\n",
              "      <td>0.745472</td>\n",
              "      <td>0.784443</td>\n",
              "      <td>1.000000</td>\n",
              "      <td>0.018209</td>\n",
              "      <td>-0.582551</td>\n",
              "      <td>0.040049</td>\n",
              "      <td>-0.064889</td>\n",
              "      <td>-0.055954</td>\n",
              "      <td>-0.141804</td>\n",
              "      <td>0.781420</td>\n",
              "    </tr>\n",
              "    <tr>\n",
              "      <th>Precipitation</th>\n",
              "      <td>-0.198187</td>\n",
              "      <td>-0.080181</td>\n",
              "      <td>0.018209</td>\n",
              "      <td>1.000000</td>\n",
              "      <td>-0.154036</td>\n",
              "      <td>0.068626</td>\n",
              "      <td>-0.047554</td>\n",
              "      <td>-0.022748</td>\n",
              "      <td>0.013362</td>\n",
              "      <td>-0.152560</td>\n",
              "    </tr>\n",
              "    <tr>\n",
              "      <th>Sea_level_pressure</th>\n",
              "      <td>-0.501467</td>\n",
              "      <td>-0.620889</td>\n",
              "      <td>-0.582551</td>\n",
              "      <td>-0.154036</td>\n",
              "      <td>1.000000</td>\n",
              "      <td>-0.168416</td>\n",
              "      <td>-0.205842</td>\n",
              "      <td>-0.202024</td>\n",
              "      <td>0.031591</td>\n",
              "      <td>-0.574501</td>\n",
              "    </tr>\n",
              "    <tr>\n",
              "      <th>Standard_pressure</th>\n",
              "      <td>0.100538</td>\n",
              "      <td>0.174288</td>\n",
              "      <td>0.040049</td>\n",
              "      <td>0.068626</td>\n",
              "      <td>-0.168416</td>\n",
              "      <td>1.000000</td>\n",
              "      <td>0.303407</td>\n",
              "      <td>0.246542</td>\n",
              "      <td>0.039120</td>\n",
              "      <td>0.137732</td>\n",
              "    </tr>\n",
              "    <tr>\n",
              "      <th>Visibility</th>\n",
              "      <td>0.115397</td>\n",
              "      <td>0.356234</td>\n",
              "      <td>-0.064889</td>\n",
              "      <td>-0.047554</td>\n",
              "      <td>-0.205842</td>\n",
              "      <td>0.303407</td>\n",
              "      <td>1.000000</td>\n",
              "      <td>0.759145</td>\n",
              "      <td>0.247448</td>\n",
              "      <td>0.226826</td>\n",
              "    </tr>\n",
              "    <tr>\n",
              "      <th>Wind_speed</th>\n",
              "      <td>0.106632</td>\n",
              "      <td>0.267949</td>\n",
              "      <td>-0.055954</td>\n",
              "      <td>-0.022748</td>\n",
              "      <td>-0.202024</td>\n",
              "      <td>0.246542</td>\n",
              "      <td>0.759145</td>\n",
              "      <td>1.000000</td>\n",
              "      <td>0.236636</td>\n",
              "      <td>0.184264</td>\n",
              "    </tr>\n",
              "    <tr>\n",
              "      <th>Max_wind_speed</th>\n",
              "      <td>-0.152013</td>\n",
              "      <td>-0.090023</td>\n",
              "      <td>-0.141804</td>\n",
              "      <td>0.013362</td>\n",
              "      <td>0.031591</td>\n",
              "      <td>0.039120</td>\n",
              "      <td>0.247448</td>\n",
              "      <td>0.236636</td>\n",
              "      <td>1.000000</td>\n",
              "      <td>-0.133136</td>\n",
              "    </tr>\n",
              "    <tr>\n",
              "      <th>Mean_temperature</th>\n",
              "      <td>0.978845</td>\n",
              "      <td>0.957402</td>\n",
              "      <td>0.781420</td>\n",
              "      <td>-0.152560</td>\n",
              "      <td>-0.574501</td>\n",
              "      <td>0.137732</td>\n",
              "      <td>0.226826</td>\n",
              "      <td>0.184264</td>\n",
              "      <td>-0.133136</td>\n",
              "      <td>1.000000</td>\n",
              "    </tr>\n",
              "  </tbody>\n",
              "</table>\n",
              "</div>"
            ],
            "text/plain": [
              "                    Max_temperature  ...  Mean_temperature\n",
              "Max_temperature            1.000000  ...          0.978845\n",
              "Min_temperature            0.894336  ...          0.957402\n",
              "Dewpoint                   0.745472  ...          0.781420\n",
              "Precipitation             -0.198187  ...         -0.152560\n",
              "Sea_level_pressure        -0.501467  ...         -0.574501\n",
              "Standard_pressure          0.100538  ...          0.137732\n",
              "Visibility                 0.115397  ...          0.226826\n",
              "Wind_speed                 0.106632  ...          0.184264\n",
              "Max_wind_speed            -0.152013  ...         -0.133136\n",
              "Mean_temperature           0.978845  ...          1.000000\n",
              "\n",
              "[10 rows x 10 columns]"
            ]
          },
          "metadata": {
            "tags": []
          },
          "execution_count": 129
        }
      ]
    },
    {
      "cell_type": "code",
      "metadata": {
        "id": "NuAI5YGfFcHS",
        "colab_type": "code",
        "colab": {
          "base_uri": "https://localhost:8080/",
          "height": 85
        },
        "outputId": "7fe2de62-8b00-4c3c-da1c-0308b0c05624"
      },
      "source": [
        "all_data.columns"
      ],
      "execution_count": 47,
      "outputs": [
        {
          "output_type": "execute_result",
          "data": {
            "text/plain": [
              "Index(['Max_temperature', 'Min_temperature', 'Dewpoint', 'Precipitation',\n",
              "       'Sea_level_pressure', 'Standard_pressure', 'Visibility', 'Wind_speed',\n",
              "       'Max_wind_speed', 'Mean_temperature'],\n",
              "      dtype='object')"
            ]
          },
          "metadata": {
            "tags": []
          },
          "execution_count": 47
        }
      ]
    },
    {
      "cell_type": "code",
      "metadata": {
        "id": "T204ZFdmQGF4",
        "colab_type": "code",
        "colab": {
          "base_uri": "https://localhost:8080/",
          "height": 221
        },
        "outputId": "64e69da0-27ca-4bcf-d1a8-e5531a8d6992"
      },
      "source": [
        "features=[\"Max_temperature\",\"Min_temperature\",\"Dewpoint\",\"Sea_level_pressure\"]\n",
        "target=[\"Mean_temperature\"]\n",
        "columns=list(features)\n",
        "columns.extend(target)\n",
        "print(columns)\n",
        "\n",
        "data=all_data[columns]\n",
        "data.head()"
      ],
      "execution_count": 175,
      "outputs": [
        {
          "output_type": "stream",
          "text": [
            "['Max_temperature', 'Min_temperature', 'Dewpoint', 'Sea_level_pressure', 'Mean_temperature']\n"
          ],
          "name": "stdout"
        },
        {
          "output_type": "execute_result",
          "data": {
            "text/html": [
              "<div>\n",
              "<style scoped>\n",
              "    .dataframe tbody tr th:only-of-type {\n",
              "        vertical-align: middle;\n",
              "    }\n",
              "\n",
              "    .dataframe tbody tr th {\n",
              "        vertical-align: top;\n",
              "    }\n",
              "\n",
              "    .dataframe thead th {\n",
              "        text-align: right;\n",
              "    }\n",
              "</style>\n",
              "<table border=\"1\" class=\"dataframe\">\n",
              "  <thead>\n",
              "    <tr style=\"text-align: right;\">\n",
              "      <th></th>\n",
              "      <th>Max_temperature</th>\n",
              "      <th>Min_temperature</th>\n",
              "      <th>Dewpoint</th>\n",
              "      <th>Sea_level_pressure</th>\n",
              "      <th>Mean_temperature</th>\n",
              "    </tr>\n",
              "  </thead>\n",
              "  <tbody>\n",
              "    <tr>\n",
              "      <th>0</th>\n",
              "      <td>86.5</td>\n",
              "      <td>57.6</td>\n",
              "      <td>56.5</td>\n",
              "      <td>29.93</td>\n",
              "      <td>72.4</td>\n",
              "    </tr>\n",
              "    <tr>\n",
              "      <th>1</th>\n",
              "      <td>55.6</td>\n",
              "      <td>37.4</td>\n",
              "      <td>36.1</td>\n",
              "      <td>30.30</td>\n",
              "      <td>46.6</td>\n",
              "    </tr>\n",
              "    <tr>\n",
              "      <th>2</th>\n",
              "      <td>85.6</td>\n",
              "      <td>62.4</td>\n",
              "      <td>52.8</td>\n",
              "      <td>29.94</td>\n",
              "      <td>74.3</td>\n",
              "    </tr>\n",
              "    <tr>\n",
              "      <th>3</th>\n",
              "      <td>75.2</td>\n",
              "      <td>53.6</td>\n",
              "      <td>46.9</td>\n",
              "      <td>29.93</td>\n",
              "      <td>62.8</td>\n",
              "    </tr>\n",
              "    <tr>\n",
              "      <th>4</th>\n",
              "      <td>60.8</td>\n",
              "      <td>34.0</td>\n",
              "      <td>41.9</td>\n",
              "      <td>30.04</td>\n",
              "      <td>49.9</td>\n",
              "    </tr>\n",
              "  </tbody>\n",
              "</table>\n",
              "</div>"
            ],
            "text/plain": [
              "   Max_temperature  Min_temperature  ...  Sea_level_pressure  Mean_temperature\n",
              "0             86.5             57.6  ...               29.93              72.4\n",
              "1             55.6             37.4  ...               30.30              46.6\n",
              "2             85.6             62.4  ...               29.94              74.3\n",
              "3             75.2             53.6  ...               29.93              62.8\n",
              "4             60.8             34.0  ...               30.04              49.9\n",
              "\n",
              "[5 rows x 5 columns]"
            ]
          },
          "metadata": {
            "tags": []
          },
          "execution_count": 175
        }
      ]
    },
    {
      "cell_type": "code",
      "metadata": {
        "id": "MfQY_SPYAnGQ",
        "colab_type": "code",
        "colab": {}
      },
      "source": [
        "X_train, X_val= train_test_split(data, test_size=0.2, random_state=42)"
      ],
      "execution_count": 0,
      "outputs": []
    },
    {
      "cell_type": "code",
      "metadata": {
        "id": "fbxQAF3sArqo",
        "colab_type": "code",
        "colab": {}
      },
      "source": [
        "X_train,y_train = X_train.iloc[:,:-1],X_train.iloc[:,-1]\n",
        "X_val,y_val = X_val.iloc[:,:-1],X_val.iloc[:,-1]"
      ],
      "execution_count": 0,
      "outputs": []
    },
    {
      "cell_type": "code",
      "metadata": {
        "id": "ggmYTtU5E_QI",
        "colab_type": "code",
        "colab": {
          "base_uri": "https://localhost:8080/",
          "height": 204
        },
        "outputId": "b945ec10-3a5b-4f88-b782-47afcac4e1f5"
      },
      "source": [
        "X_train.head()"
      ],
      "execution_count": 178,
      "outputs": [
        {
          "output_type": "execute_result",
          "data": {
            "text/html": [
              "<div>\n",
              "<style scoped>\n",
              "    .dataframe tbody tr th:only-of-type {\n",
              "        vertical-align: middle;\n",
              "    }\n",
              "\n",
              "    .dataframe tbody tr th {\n",
              "        vertical-align: top;\n",
              "    }\n",
              "\n",
              "    .dataframe thead th {\n",
              "        text-align: right;\n",
              "    }\n",
              "</style>\n",
              "<table border=\"1\" class=\"dataframe\">\n",
              "  <thead>\n",
              "    <tr style=\"text-align: right;\">\n",
              "      <th></th>\n",
              "      <th>Max_temperature</th>\n",
              "      <th>Min_temperature</th>\n",
              "      <th>Dewpoint</th>\n",
              "      <th>Sea_level_pressure</th>\n",
              "    </tr>\n",
              "  </thead>\n",
              "  <tbody>\n",
              "    <tr>\n",
              "      <th>591</th>\n",
              "      <td>59.0</td>\n",
              "      <td>27.5</td>\n",
              "      <td>27.4</td>\n",
              "      <td>30.29</td>\n",
              "    </tr>\n",
              "    <tr>\n",
              "      <th>184</th>\n",
              "      <td>96.8</td>\n",
              "      <td>73.2</td>\n",
              "      <td>61.7</td>\n",
              "      <td>29.75</td>\n",
              "    </tr>\n",
              "    <tr>\n",
              "      <th>743</th>\n",
              "      <td>61.0</td>\n",
              "      <td>40.6</td>\n",
              "      <td>39.3</td>\n",
              "      <td>29.98</td>\n",
              "    </tr>\n",
              "    <tr>\n",
              "      <th>178</th>\n",
              "      <td>77.2</td>\n",
              "      <td>53.2</td>\n",
              "      <td>51.5</td>\n",
              "      <td>30.09</td>\n",
              "    </tr>\n",
              "    <tr>\n",
              "      <th>597</th>\n",
              "      <td>95.2</td>\n",
              "      <td>61.2</td>\n",
              "      <td>51.2</td>\n",
              "      <td>29.79</td>\n",
              "    </tr>\n",
              "  </tbody>\n",
              "</table>\n",
              "</div>"
            ],
            "text/plain": [
              "     Max_temperature  Min_temperature  Dewpoint  Sea_level_pressure\n",
              "591             59.0             27.5      27.4               30.29\n",
              "184             96.8             73.2      61.7               29.75\n",
              "743             61.0             40.6      39.3               29.98\n",
              "178             77.2             53.2      51.5               30.09\n",
              "597             95.2             61.2      51.2               29.79"
            ]
          },
          "metadata": {
            "tags": []
          },
          "execution_count": 178
        }
      ]
    },
    {
      "cell_type": "code",
      "metadata": {
        "id": "G_w9ze7HMdef",
        "colab_type": "code",
        "colab": {}
      },
      "source": [
        "#X_train=normalize(X_train)\n",
        "#X_val=normalize(X_val)"
      ],
      "execution_count": 0,
      "outputs": []
    },
    {
      "cell_type": "code",
      "metadata": {
        "id": "YzTjn_LtMoCI",
        "colab_type": "code",
        "colab": {
          "base_uri": "https://localhost:8080/",
          "height": 136
        },
        "outputId": "4e57c46d-4a88-48ea-9375-61df10b63bd1"
      },
      "source": [
        "#print(X_train)"
      ],
      "execution_count": 90,
      "outputs": [
        {
          "output_type": "stream",
          "text": [
            "[[0.69616073 0.3244817  0.32330176 ... 0.01899693 0.08141541 0.40448118]\n",
            " [0.66152386 0.50024325 0.42165312 ... 0.10524243 0.15718026 0.23426692]\n",
            " [0.62655855 0.41702093 0.40366805 ... 0.1068231  0.18796756 0.35210536]\n",
            " ...\n",
            " [0.66802423 0.44239481 0.41983187 ... 0.12329036 0.16761042 0.27623487]\n",
            " [0.4945829  0.37066301 0.28293212 ... 0.25990276 0.35311684 0.47835268]\n",
            " [0.61019907 0.46333438 0.40837857 ... 0.1279144  0.19708293 0.32480783]]\n"
          ],
          "name": "stdout"
        }
      ]
    },
    {
      "cell_type": "code",
      "metadata": {
        "id": "niV7EKYfAwD7",
        "colab_type": "code",
        "colab": {
          "base_uri": "https://localhost:8080/",
          "height": 71
        },
        "outputId": "f6cd5a51-45af-4f69-89c8-8463b41e49e5"
      },
      "source": [
        "#regressor = LinearRegression()\n",
        "regressor=RandomForestRegressor()\n",
        "regressor=MLPRegressor(hidden_layer_sizes=(100,3))\n",
        "\n",
        "regressor.fit(X_train, y_train)\n",
        "y_pred = regressor.predict(X_val)\n",
        "\n",
        "#regressor = xgboost.XGBRegressor(random_state=42)\n",
        "#regressor.fit( X_train, y_train, early_stopping_rounds=10,eval_set=[(X_val, y_val)] )\n",
        "#y_pred = regressor.predict(X_val)\n",
        "\n"
      ],
      "execution_count": 187,
      "outputs": [
        {
          "output_type": "stream",
          "text": [
            "/usr/local/lib/python3.6/dist-packages/sklearn/neural_network/_multilayer_perceptron.py:571: ConvergenceWarning: Stochastic Optimizer: Maximum iterations (200) reached and the optimization hasn't converged yet.\n",
            "  % self.max_iter, ConvergenceWarning)\n"
          ],
          "name": "stderr"
        }
      ]
    },
    {
      "cell_type": "code",
      "metadata": {
        "id": "Ng54YLjwA8ei",
        "colab_type": "code",
        "colab": {
          "base_uri": "https://localhost:8080/",
          "height": 51
        },
        "outputId": "d65543e6-f132-49b0-d5c3-eb4c00668dbb"
      },
      "source": [
        "mse = mean_squared_error(y_val,y_pred)\n",
        "mae = mean_absolute_error(y_val,y_pred)\n",
        "\n",
        "print(\"MSE of the model is :\" ,mse)\n",
        "print(\"MAE of the model is :\" ,mae)"
      ],
      "execution_count": 188,
      "outputs": [
        {
          "output_type": "stream",
          "text": [
            "MSE of the model is : 3969.889205433062\n",
            "MAE of the model is : 61.18042163762725\n"
          ],
          "name": "stdout"
        }
      ]
    },
    {
      "cell_type": "code",
      "metadata": {
        "id": "KeLNvp4EBDpc",
        "colab_type": "code",
        "colab": {}
      },
      "source": [
        "final_test_path = \"data/test.csv\"\n",
        "final_test = pd.read_csv(final_test_path)\n",
        "\n",
        "final_test=final_test[features]\n",
        "\n",
        "submission = regressor.predict(final_test)\n",
        "\n",
        "\n",
        "submission = pd.DataFrame(submission)\n",
        "submission.to_csv('submission.csv',header=['mean_temp'],index=False)"
      ],
      "execution_count": 0,
      "outputs": []
    },
    {
      "cell_type": "code",
      "metadata": {
        "id": "gORsyC-JBPAm",
        "colab_type": "code",
        "colab": {}
      },
      "source": [
        "from google.colab import files\n",
        "files.download('submission.csv') "
      ],
      "execution_count": 0,
      "outputs": []
    }
  ]
}